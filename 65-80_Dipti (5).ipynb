{
 "cells": [
  {
   "cell_type": "code",
   "execution_count": 1,
   "id": "a8510c99-ee1b-4912-b2ac-739c67379b8e",
   "metadata": {},
   "outputs": [],
   "source": [
    "import pandas as pd\n",
    "import numpy as np\n",
    "import seaborn as sns\n",
    "import matplotlib.pyplot as plt\n",
    "import math"
   ]
  },
  {
   "cell_type": "code",
   "execution_count": 2,
   "id": "0d22230d-590c-4378-a891-d3dc8c313db5",
   "metadata": {},
   "outputs": [],
   "source": [
    "excelFile = pd.ExcelFile(r\"Cardiac_Outcomes.xlsx\")\n",
    "HosDis = pd.read_excel(excelFile, 'Hospitalization_Discharge')\n",
    "CardiacComp = pd.read_excel(excelFile, 'CardiacComplications')\n",
    "Respons = pd.read_excel(excelFile, 'Responsivenes')\n",
    "PaHi = pd.read_excel(excelFile, 'PatientHistory')\n",
    "Labs = pd.read_excel(excelFile, 'Labs')\n",
    "Demog = pd.read_excel(excelFile, 'Demography')\n",
    "PatPre = pd.read_excel(excelFile, 'Patient_Precriptions')"
   ]
  },
  {
   "cell_type": "markdown",
   "id": "48a3b290-59de-44ca-8b5d-02ad36d8dd9c",
   "metadata": {},
   "source": [
    "65. Which Admission Ward has maximum number of visits scheduled    "
   ]
  },
  {
   "cell_type": "code",
   "execution_count": 4,
   "id": "a7e57c1e-45b4-497a-b3d3-415eb56439fb",
   "metadata": {},
   "outputs": [
    {
     "name": "stdout",
     "output_type": "stream",
     "text": [
      "Admission Ward that has maximum number of visits:\n"
     ]
    },
    {
     "data": {
      "text/html": [
       "<div>\n",
       "<style scoped>\n",
       "    .dataframe tbody tr th:only-of-type {\n",
       "        vertical-align: middle;\n",
       "    }\n",
       "\n",
       "    .dataframe tbody tr th {\n",
       "        vertical-align: top;\n",
       "    }\n",
       "\n",
       "    .dataframe thead th {\n",
       "        text-align: right;\n",
       "    }\n",
       "</style>\n",
       "<table border=\"1\" class=\"dataframe\">\n",
       "  <thead>\n",
       "    <tr style=\"text-align: right;\">\n",
       "      <th></th>\n",
       "      <th>nunique</th>\n",
       "    </tr>\n",
       "    <tr>\n",
       "      <th>admission_ward</th>\n",
       "      <th></th>\n",
       "    </tr>\n",
       "  </thead>\n",
       "  <tbody>\n",
       "    <tr>\n",
       "      <th>Cardiology</th>\n",
       "      <td>1547</td>\n",
       "    </tr>\n",
       "  </tbody>\n",
       "</table>\n",
       "</div>"
      ],
      "text/plain": [
       "                nunique\n",
       "admission_ward         \n",
       "Cardiology         1547"
      ]
     },
     "execution_count": 4,
     "metadata": {},
     "output_type": "execute_result"
    }
   ],
   "source": [
    "#result = HosDis.groupby('admission_ward')['inpatient_number'].nunique()\n",
    "#print(result.head(1))\n",
    "\n",
    "print('Admission Ward that has maximum number of visits:')\n",
    "(HosDis.groupby('admission_ward')['inpatient_number'].agg(['nunique'])).head(1)"
   ]
  },
  {
   "cell_type": "markdown",
   "id": "91de8d02-3a59-4f9a-81ca-ef3448381cb0",
   "metadata": {},
   "source": [
    "66. Display total count of patients in each discharge_department based on gender"
   ]
  },
  {
   "cell_type": "code",
   "execution_count": 5,
   "id": "7d55825a-ce65-44f2-8f96-cdca13e47ba4",
   "metadata": {},
   "outputs": [
    {
     "name": "stdout",
     "output_type": "stream",
     "text": [
      "Total count of patients in each discharge_department based on gender\n"
     ]
    },
    {
     "data": {
      "text/html": [
       "<div>\n",
       "<style scoped>\n",
       "    .dataframe tbody tr th:only-of-type {\n",
       "        vertical-align: middle;\n",
       "    }\n",
       "\n",
       "    .dataframe tbody tr th {\n",
       "        vertical-align: top;\n",
       "    }\n",
       "\n",
       "    .dataframe thead th {\n",
       "        text-align: right;\n",
       "    }\n",
       "</style>\n",
       "<table border=\"1\" class=\"dataframe\">\n",
       "  <thead>\n",
       "    <tr style=\"text-align: right;\">\n",
       "      <th></th>\n",
       "      <th></th>\n",
       "      <th>nunique</th>\n",
       "    </tr>\n",
       "    <tr>\n",
       "      <th>gender</th>\n",
       "      <th>discharge_department</th>\n",
       "      <th></th>\n",
       "    </tr>\n",
       "  </thead>\n",
       "  <tbody>\n",
       "    <tr>\n",
       "      <th rowspan=\"4\" valign=\"top\">Female</th>\n",
       "      <th>Cardiology</th>\n",
       "      <td>993</td>\n",
       "    </tr>\n",
       "    <tr>\n",
       "      <th>GeneralWard</th>\n",
       "      <td>137</td>\n",
       "    </tr>\n",
       "    <tr>\n",
       "      <th>ICU</th>\n",
       "      <td>5</td>\n",
       "    </tr>\n",
       "    <tr>\n",
       "      <th>Others</th>\n",
       "      <td>28</td>\n",
       "    </tr>\n",
       "    <tr>\n",
       "      <th rowspan=\"4\" valign=\"top\">Male</th>\n",
       "      <th>Cardiology</th>\n",
       "      <td>710</td>\n",
       "    </tr>\n",
       "    <tr>\n",
       "      <th>GeneralWard</th>\n",
       "      <td>104</td>\n",
       "    </tr>\n",
       "    <tr>\n",
       "      <th>ICU</th>\n",
       "      <td>7</td>\n",
       "    </tr>\n",
       "    <tr>\n",
       "      <th>Others</th>\n",
       "      <td>24</td>\n",
       "    </tr>\n",
       "  </tbody>\n",
       "</table>\n",
       "</div>"
      ],
      "text/plain": [
       "                             nunique\n",
       "gender discharge_department         \n",
       "Female Cardiology                993\n",
       "       GeneralWard               137\n",
       "       ICU                         5\n",
       "       Others                     28\n",
       "Male   Cardiology                710\n",
       "       GeneralWard               104\n",
       "       ICU                         7\n",
       "       Others                     24"
      ]
     },
     "execution_count": 5,
     "metadata": {},
     "output_type": "execute_result"
    }
   ],
   "source": [
    "# Merge Hospitalization_Discharge and Demography\n",
    "dfNew = HosDis.merge(Demog[['inpatient_number','gender']], on ='inpatient_number')\n",
    "\n",
    "print('Total count of patients in each discharge_department based on gender')\n",
    "#dfNew.groupby(['discharge_department', 'gender'])['inpatient_number'].agg(['nunique'])\n",
    "dfNew.groupby(['gender', 'discharge_department'])['inpatient_number'].agg(['nunique'])\n"
   ]
  },
  {
   "cell_type": "markdown",
   "id": "79c0d2ae-53ce-466a-811f-bcfbadb45cb4",
   "metadata": {},
   "source": [
    "67. How many Unique patients were precribed each type of medication?"
   ]
  },
  {
   "cell_type": "code",
   "execution_count": 6,
   "id": "0e9122fa-c0f6-4f6d-b014-c512ec979f76",
   "metadata": {},
   "outputs": [
    {
     "name": "stdout",
     "output_type": "stream",
     "text": [
      "Unique patients Count by Prescribed medication:\n"
     ]
    },
    {
     "data": {
      "text/html": [
       "<div>\n",
       "<style scoped>\n",
       "    .dataframe tbody tr th:only-of-type {\n",
       "        vertical-align: middle;\n",
       "    }\n",
       "\n",
       "    .dataframe tbody tr th {\n",
       "        vertical-align: top;\n",
       "    }\n",
       "\n",
       "    .dataframe thead th {\n",
       "        text-align: right;\n",
       "    }\n",
       "</style>\n",
       "<table border=\"1\" class=\"dataframe\">\n",
       "  <thead>\n",
       "    <tr style=\"text-align: right;\">\n",
       "      <th></th>\n",
       "      <th>nunique</th>\n",
       "    </tr>\n",
       "    <tr>\n",
       "      <th>Drug_name</th>\n",
       "      <th></th>\n",
       "    </tr>\n",
       "  </thead>\n",
       "  <tbody>\n",
       "    <tr>\n",
       "      <th>Aspirin enteric-coated tablet</th>\n",
       "      <td>958</td>\n",
       "    </tr>\n",
       "    <tr>\n",
       "      <th>Atorvastatin calcium tablet</th>\n",
       "      <td>822</td>\n",
       "    </tr>\n",
       "    <tr>\n",
       "      <th>Benazepril hydrochloride tablet</th>\n",
       "      <td>434</td>\n",
       "    </tr>\n",
       "    <tr>\n",
       "      <th>Clopidogrel Hydrogen Sulphate tablet</th>\n",
       "      <td>401</td>\n",
       "    </tr>\n",
       "    <tr>\n",
       "      <th>Deslanoside injection</th>\n",
       "      <td>1017</td>\n",
       "    </tr>\n",
       "    <tr>\n",
       "      <th>Digoxin tablet</th>\n",
       "      <td>999</td>\n",
       "    </tr>\n",
       "    <tr>\n",
       "      <th>Dobutamine hydrochloride injection</th>\n",
       "      <td>22</td>\n",
       "    </tr>\n",
       "    <tr>\n",
       "      <th>Enoxaparin Sodium injection</th>\n",
       "      <td>113</td>\n",
       "    </tr>\n",
       "    <tr>\n",
       "      <th>Furosemide injection</th>\n",
       "      <td>1720</td>\n",
       "    </tr>\n",
       "    <tr>\n",
       "      <th>Furosemide tablet</th>\n",
       "      <td>1641</td>\n",
       "    </tr>\n",
       "    <tr>\n",
       "      <th>Heparin Sodium injection</th>\n",
       "      <td>153</td>\n",
       "    </tr>\n",
       "    <tr>\n",
       "      <th>Hydrochlorothiazide tablet</th>\n",
       "      <td>283</td>\n",
       "    </tr>\n",
       "    <tr>\n",
       "      <th>Isoprenaline Hydrochloride injection</th>\n",
       "      <td>30</td>\n",
       "    </tr>\n",
       "    <tr>\n",
       "      <th>Isosorbide Mononitrate Sustained Release tablet</th>\n",
       "      <td>326</td>\n",
       "    </tr>\n",
       "    <tr>\n",
       "      <th>Meglumine Adenosine Cyclophosphate for injection</th>\n",
       "      <td>1115</td>\n",
       "    </tr>\n",
       "    <tr>\n",
       "      <th>Metoprolol Succinate Sustained-release tablet</th>\n",
       "      <td>523</td>\n",
       "    </tr>\n",
       "    <tr>\n",
       "      <th>Milrinone injection</th>\n",
       "      <td>709</td>\n",
       "    </tr>\n",
       "    <tr>\n",
       "      <th>Nitroglycerin injection</th>\n",
       "      <td>203</td>\n",
       "    </tr>\n",
       "    <tr>\n",
       "      <th>Shenfu injection</th>\n",
       "      <td>338</td>\n",
       "    </tr>\n",
       "    <tr>\n",
       "      <th>Spironolactone tablet</th>\n",
       "      <td>1833</td>\n",
       "    </tr>\n",
       "    <tr>\n",
       "      <th>Torasemide tablet</th>\n",
       "      <td>252</td>\n",
       "    </tr>\n",
       "    <tr>\n",
       "      <th>Valsartan Dispersible tablet</th>\n",
       "      <td>348</td>\n",
       "    </tr>\n",
       "    <tr>\n",
       "      <th>metoprolol tartrate injection</th>\n",
       "      <td>307</td>\n",
       "    </tr>\n",
       "    <tr>\n",
       "      <th>sulfotanshinone sodium injection</th>\n",
       "      <td>570</td>\n",
       "    </tr>\n",
       "    <tr>\n",
       "      <th>warfarin sodium tablet</th>\n",
       "      <td>253</td>\n",
       "    </tr>\n",
       "  </tbody>\n",
       "</table>\n",
       "</div>"
      ],
      "text/plain": [
       "                                                  nunique\n",
       "Drug_name                                                \n",
       "Aspirin enteric-coated tablet                         958\n",
       "Atorvastatin calcium tablet                           822\n",
       "Benazepril hydrochloride tablet                       434\n",
       "Clopidogrel Hydrogen Sulphate tablet                  401\n",
       "Deslanoside injection                                1017\n",
       "Digoxin tablet                                        999\n",
       "Dobutamine hydrochloride injection                     22\n",
       "Enoxaparin Sodium injection                           113\n",
       "Furosemide injection                                 1720\n",
       "Furosemide tablet                                    1641\n",
       "Heparin Sodium injection                              153\n",
       "Hydrochlorothiazide tablet                            283\n",
       "Isoprenaline Hydrochloride injection                   30\n",
       "Isosorbide Mononitrate Sustained Release tablet       326\n",
       "Meglumine Adenosine Cyclophosphate for injection     1115\n",
       "Metoprolol Succinate Sustained-release tablet         523\n",
       "Milrinone injection                                   709\n",
       "Nitroglycerin injection                               203\n",
       "Shenfu injection                                      338\n",
       "Spironolactone tablet                                1833\n",
       "Torasemide tablet                                     252\n",
       "Valsartan Dispersible tablet                          348\n",
       "metoprolol tartrate injection                         307\n",
       "sulfotanshinone sodium injection                      570\n",
       "warfarin sodium tablet                                253"
      ]
     },
     "execution_count": 6,
     "metadata": {},
     "output_type": "execute_result"
    }
   ],
   "source": [
    "# Using 'Patient_Precriptions' sheet and Unique 'inpatient_number'\n",
    "print('Unique patients Count by Prescribed medication:')\n",
    "PatPre.groupby('Drug_name')['inpatient_number'].agg(['nunique'])"
   ]
  },
  {
   "cell_type": "markdown",
   "id": "688b9040-aa42-439a-9b1e-dc1105fad601",
   "metadata": {},
   "source": [
    "68. Find 5 patients with the highest Discharge days greater than 20 List their most common outcome"
   ]
  },
  {
   "cell_type": "code",
   "execution_count": 103,
   "id": "59cc8bad-8607-4bf3-8d0a-9dfa1dd26d50",
   "metadata": {},
   "outputs": [
    {
     "name": "stdout",
     "output_type": "stream",
     "text": [
      " Top 5 patients with the highest Discharge days :\n"
     ]
    },
    {
     "data": {
      "text/html": [
       "<div>\n",
       "<style scoped>\n",
       "    .dataframe tbody tr th:only-of-type {\n",
       "        vertical-align: middle;\n",
       "    }\n",
       "\n",
       "    .dataframe tbody tr th {\n",
       "        vertical-align: top;\n",
       "    }\n",
       "\n",
       "    .dataframe thead th {\n",
       "        text-align: right;\n",
       "    }\n",
       "</style>\n",
       "<table border=\"1\" class=\"dataframe\">\n",
       "  <thead>\n",
       "    <tr style=\"text-align: right;\">\n",
       "      <th></th>\n",
       "      <th>inpatient_number</th>\n",
       "      <th>dischargeDay</th>\n",
       "      <th>outcome_during_hospitalization</th>\n",
       "    </tr>\n",
       "  </thead>\n",
       "  <tbody>\n",
       "    <tr>\n",
       "      <th>884</th>\n",
       "      <td>794077</td>\n",
       "      <td>123</td>\n",
       "      <td>Alive</td>\n",
       "    </tr>\n",
       "    <tr>\n",
       "      <th>1613</th>\n",
       "      <td>768711</td>\n",
       "      <td>118</td>\n",
       "      <td>Alive</td>\n",
       "    </tr>\n",
       "    <tr>\n",
       "      <th>1548</th>\n",
       "      <td>791880</td>\n",
       "      <td>88</td>\n",
       "      <td>Alive</td>\n",
       "    </tr>\n",
       "    <tr>\n",
       "      <th>1573</th>\n",
       "      <td>794784</td>\n",
       "      <td>82</td>\n",
       "      <td>Alive</td>\n",
       "    </tr>\n",
       "    <tr>\n",
       "      <th>1513</th>\n",
       "      <td>757711</td>\n",
       "      <td>76</td>\n",
       "      <td>Alive</td>\n",
       "    </tr>\n",
       "  </tbody>\n",
       "</table>\n",
       "</div>"
      ],
      "text/plain": [
       "      inpatient_number  dischargeDay outcome_during_hospitalization\n",
       "884             794077           123                          Alive\n",
       "1613            768711           118                          Alive\n",
       "1548            791880            88                          Alive\n",
       "1573            794784            82                          Alive\n",
       "1513            757711            76                          Alive"
      ]
     },
     "execution_count": 103,
     "metadata": {},
     "output_type": "execute_result"
    }
   ],
   "source": [
    "# (HosDis.loc[(HosDis['dischargeDay'] >20)]).head(5)\n",
    "high_discharge_days_df = (HosDis.loc[:, ['inpatient_number','dischargeDay','outcome_during_hospitalization']]).sort_values('dischargeDay' , ascending=False)\n",
    "\n",
    "print(' Top 5 patients with the highest Discharge days :')\n",
    "(high_discharge_days_df.loc[(HosDis['dischargeDay'] >20)]).head(5)\n"
   ]
  },
  {
   "cell_type": "markdown",
   "id": "8eba68be-03f6-4e0b-9e9c-82c11b3e676b",
   "metadata": {},
   "source": [
    "69. Get the list of patient ID's which are not there in prescriptions but in demographics"
   ]
  },
  {
   "cell_type": "code",
   "execution_count": 69,
   "id": "a73fb000-5cbe-4da7-9633-b59421d9a66f",
   "metadata": {},
   "outputs": [
    {
     "name": "stdout",
     "output_type": "stream",
     "text": [
      "Note: In Data there is only 1 Patient ID which is not there in prescriptions but in demographics: \n",
      "\n",
      "List of Patient IDs which are not there in prescriptions but in demographics: \n"
     ]
    },
    {
     "data": {
      "text/html": [
       "<style type=\"text/css\">\n",
       "</style>\n",
       "<table id=\"T_4d3b7\">\n",
       "  <thead>\n",
       "    <tr>\n",
       "      <th id=\"T_4d3b7_level0_col0\" class=\"col_heading level0 col0\" >Patient ID</th>\n",
       "    </tr>\n",
       "  </thead>\n",
       "  <tbody>\n",
       "    <tr>\n",
       "      <td id=\"T_4d3b7_row0_col0\" class=\"data row0 col0\" >789308</td>\n",
       "    </tr>\n",
       "  </tbody>\n",
       "</table>\n"
      ],
      "text/plain": [
       "<pandas.io.formats.style.Styler at 0x2019ce56b50>"
      ]
     },
     "execution_count": 69,
     "metadata": {},
     "output_type": "execute_result"
    }
   ],
   "source": [
    "# Merge of Demography & Patient_Precriptions dataframes and using indicator= true and '_merge' column to find only left df rows that is not present in right df \n",
    "\n",
    "df_dem=pd.merge(Demog,PatPre,on=['inpatient_number'],how=\"outer\",indicator=True)\n",
    "df_dem=df_dem[df_dem['_merge']=='left_only']\n",
    "\n",
    "df_dem_pts = pd. DataFrame() \n",
    "df_dem_pts['Patient ID'] = df_dem['inpatient_number']\n",
    "\n",
    "# Create a styled representation of the DataFrame without index\n",
    "styled_df_dem = df_dem_pts.style.hide()\n",
    "\n",
    "# Print the styled DataFrame\n",
    "\n",
    "print('Note: In Data there is only 1 Patient ID which is not there in prescriptions but in demographics: ')\n",
    "print()\n",
    "print('List of Patient IDs which are not there in prescriptions but in demographics: ')\n",
    "styled_df_dem "
   ]
  },
  {
   "cell_type": "markdown",
   "id": "777b3326-d121-4695-8b9b-226086d686d7",
   "metadata": {},
   "source": [
    "70. On average, what is the most frequent weekday of admission?"
   ]
  },
  {
   "cell_type": "code",
   "execution_count": 78,
   "id": "766064b0-580d-4263-98cf-54ccc0282524",
   "metadata": {},
   "outputs": [
    {
     "name": "stdout",
     "output_type": "stream",
     "text": [
      " Most frequent weekday of admission : Monday\n",
      " No of patients admitted : 308\n"
     ]
    }
   ],
   "source": [
    "# Coverting Addmission Date from DateFormat to Days\n",
    "\n",
    "date_df = pd. DataFrame() \n",
    "\n",
    "date_df['Patients'] = HosDis['inpatient_number']\n",
    "date_df['add_date'] = pd.to_datetime(HosDis['Admission_date']) \n",
    "date_df['DayOfWeek'] = date_df['add_date'].dt.day_name() \n",
    "\n",
    "#date_df.groupby('dayOfWeek').agg(['count'])\n",
    "\n",
    "# Calculating distint count of patients admmited by Days and Sorting in decending order\n",
    "\n",
    "addmission_days = date_df.groupby('DayOfWeek')['Patients'].nunique().reset_index()\n",
    "addmission_days_sorted = addmission_days.sort_values(by='Patients',  ascending=False).reset_index()\n",
    "\n",
    "# Getting most frequent weekday of admission\n",
    "\n",
    "Most_frequent_weekday_of_Addmission = addmission_days_sorted.iloc[0]['DayOfWeek']\n",
    "No_of_patients_admitted =  addmission_days_sorted.iloc[0]['Patients']\n",
    "print(' Most frequent weekday of admission : '+ Most_frequent_weekday_of_Addmission)\n",
    "print(' No of patients admitted : ' +  str(No_of_patients_admitted))\n"
   ]
  },
  {
   "cell_type": "markdown",
   "id": "0611a1ba-bb38-4a84-9a69-0463053ceb85",
   "metadata": {},
   "source": [
    "71. Which year had the maximum admissions"
   ]
  },
  {
   "cell_type": "code",
   "execution_count": 82,
   "id": "fbec130c-ba47-4cdb-923f-d3d538e04b6a",
   "metadata": {
    "scrolled": true
   },
   "outputs": [
    {
     "name": "stdout",
     "output_type": "stream",
     "text": [
      " Year with Maximum Admissions : 2016\n",
      " No of patients Admitted : 518\n"
     ]
    }
   ],
   "source": [
    "# Coverting Addmission Date from DateFormat to Year\n",
    "\n",
    "date_df_new = pd. DataFrame() \n",
    "date_df_new['Patients'] = HosDis['inpatient_number']\n",
    "date_df_new['adm_date'] = pd.to_datetime(HosDis['Admission_date']) \n",
    "date_df_new['adm_year'] = pd.DatetimeIndex(date_df_new['adm_date']).year\n",
    "\n",
    "# Calculating distint count of patients admmited by Year and Sorting in decending order\n",
    "\n",
    "admit_years = date_df_new.groupby('adm_year')['Patients'].nunique().reset_index()\n",
    "admit_years_sorted = admit_years.sort_values(by='Patients',  ascending=False).reset_index()\n",
    "\n",
    "# Getting Year with maximum number of admissions.\n",
    "\n",
    "year_with_maximum_admisions = admit_years_sorted.iloc[0]['adm_year']\n",
    "No_of_patients_admitted_year =  admit_years_sorted.iloc[0]['Patients']\n",
    "print(' Year with Maximum Admissions : '+ str(year_with_maximum_admisions))\n",
    "print(' No of patients Admitted : ' +  str(No_of_patients_admitted_year))\n",
    "\n",
    "#date_df_new.groupby('adm_year').agg(['count'])"
   ]
  },
  {
   "cell_type": "markdown",
   "id": "91f57fba-3f09-40ea-bb3f-b5545f174581",
   "metadata": {},
   "source": [
    "72. What % of the dataset is male vs female?"
   ]
  },
  {
   "cell_type": "code",
   "execution_count": 31,
   "id": "11a61bea-5e86-4d9b-9d80-38be9f82de83",
   "metadata": {},
   "outputs": [
    {
     "data": {
      "text/html": [
       "<div>\n",
       "<style scoped>\n",
       "    .dataframe tbody tr th:only-of-type {\n",
       "        vertical-align: middle;\n",
       "    }\n",
       "\n",
       "    .dataframe tbody tr th {\n",
       "        vertical-align: top;\n",
       "    }\n",
       "\n",
       "    .dataframe thead th {\n",
       "        text-align: right;\n",
       "    }\n",
       "</style>\n",
       "<table border=\"1\" class=\"dataframe\">\n",
       "  <thead>\n",
       "    <tr style=\"text-align: right;\">\n",
       "      <th></th>\n",
       "      <th>gender</th>\n",
       "      <th>Patients Count</th>\n",
       "      <th>Percent %</th>\n",
       "    </tr>\n",
       "  </thead>\n",
       "  <tbody>\n",
       "    <tr>\n",
       "      <th>0</th>\n",
       "      <td>Female</td>\n",
       "      <td>1163</td>\n",
       "      <td>57.92</td>\n",
       "    </tr>\n",
       "    <tr>\n",
       "      <th>1</th>\n",
       "      <td>Male</td>\n",
       "      <td>845</td>\n",
       "      <td>42.08</td>\n",
       "    </tr>\n",
       "  </tbody>\n",
       "</table>\n",
       "</div>"
      ],
      "text/plain": [
       "   gender  Patients Count  Percent %\n",
       "0  Female            1163      57.92\n",
       "1    Male             845      42.08"
      ]
     },
     "execution_count": 31,
     "metadata": {},
     "output_type": "execute_result"
    }
   ],
   "source": [
    "#Demog.groupby('gender')['inpatient_number'].nunique().reset_index()\n",
    "\n",
    "gendre_df = pd. DataFrame() \n",
    "gendre_df = Demog.groupby('gender')['inpatient_number'].nunique().reset_index()\n",
    "\n",
    "gendre_df['Percent %'] = round((gendre_df['inpatient_number'] /\n",
    "                        gendre_df['inpatient_number'].sum()) * 100 , 2)\n",
    "\n",
    "gendre_df.rename(columns={'inpatient_number':'Patients Count'},inplace= True) \n",
    "\n",
    "gendre_df\n"
   ]
  },
  {
   "cell_type": "markdown",
   "id": "348f4299-05c1-44f2-9b47-af476a278225",
   "metadata": {},
   "source": [
    "73. Which patient in the youngest age category weighs the most?"
   ]
  },
  {
   "cell_type": "code",
   "execution_count": 33,
   "id": "fc14695a-fcb0-4662-8560-09691ad645be",
   "metadata": {},
   "outputs": [
    {
     "name": "stdout",
     "output_type": "stream",
     "text": [
      "Patient in youngest category(21-29) with Highest weight is : 831184\n",
      "Weight is : 82.5\n"
     ]
    }
   ],
   "source": [
    "# Fiding the Youngest age Patients \n",
    "rslt_df = Demog[Demog['ageCat'] == '21-29'] \n",
    "#print('\\nResult dataframe :\\n', rslt_df)\n",
    "\n",
    "# Sorting the resultset in decending order and Finding the Heighest Weight Patient\n",
    "Sorted_rs = rslt_df.sort_values(by='weight',  ascending=False).reset_index()\n",
    "young_pt = Sorted_rs.iloc[0]['inpatient_number']\n",
    "yount_pt_wt = Sorted_rs.iloc[0]['weight']\n",
    "\n",
    "print('Patient in youngest category(21-29) with Highest weight is : ' +  str(young_pt))\n",
    "print('Weight is : ' +  str(yount_pt_wt))\n",
    "\n",
    "#maxWeight = rslt_df['weight'].max()\n",
    "#print(maxWeight)\n"
   ]
  },
  {
   "cell_type": "markdown",
   "id": "74f211a3-e2fb-4f3f-94dd-e9eb3d0166c8",
   "metadata": {},
   "source": [
    "74. Which adm ward had the lowest rate of Outcome Death?"
   ]
  },
  {
   "cell_type": "code",
   "execution_count": 30,
   "id": "ffe2ca33-0fc2-4739-a796-8a956b0c8836",
   "metadata": {},
   "outputs": [
    {
     "name": "stdout",
     "output_type": "stream",
     "text": [
      "After Analysing the Data, 3 Admission ward had lowest rate of Outcome Death.\n"
     ]
    },
    {
     "data": {
      "text/html": [
       "<div>\n",
       "<style scoped>\n",
       "    .dataframe tbody tr th:only-of-type {\n",
       "        vertical-align: middle;\n",
       "    }\n",
       "\n",
       "    .dataframe tbody tr th {\n",
       "        vertical-align: top;\n",
       "    }\n",
       "\n",
       "    .dataframe thead th {\n",
       "        text-align: right;\n",
       "    }\n",
       "</style>\n",
       "<table border=\"1\" class=\"dataframe\">\n",
       "  <thead>\n",
       "    <tr style=\"text-align: right;\">\n",
       "      <th></th>\n",
       "      <th>index</th>\n",
       "      <th>admission_ward</th>\n",
       "      <th>Patients Count</th>\n",
       "      <th>Rate of Death %</th>\n",
       "    </tr>\n",
       "  </thead>\n",
       "  <tbody>\n",
       "    <tr>\n",
       "      <th>0</th>\n",
       "      <td>1</td>\n",
       "      <td>GeneralWard</td>\n",
       "      <td>1</td>\n",
       "      <td>9.09</td>\n",
       "    </tr>\n",
       "    <tr>\n",
       "      <th>1</th>\n",
       "      <td>2</td>\n",
       "      <td>ICU</td>\n",
       "      <td>1</td>\n",
       "      <td>9.09</td>\n",
       "    </tr>\n",
       "    <tr>\n",
       "      <th>2</th>\n",
       "      <td>3</td>\n",
       "      <td>Others</td>\n",
       "      <td>1</td>\n",
       "      <td>9.09</td>\n",
       "    </tr>\n",
       "    <tr>\n",
       "      <th>3</th>\n",
       "      <td>0</td>\n",
       "      <td>Cardiology</td>\n",
       "      <td>8</td>\n",
       "      <td>72.73</td>\n",
       "    </tr>\n",
       "  </tbody>\n",
       "</table>\n",
       "</div>"
      ],
      "text/plain": [
       "   index admission_ward  Patients Count  Rate of Death % \n",
       "0      1    GeneralWard               1              9.09\n",
       "1      2            ICU               1              9.09\n",
       "2      3         Others               1              9.09\n",
       "3      0     Cardiology               8             72.73"
      ]
     },
     "execution_count": 30,
     "metadata": {},
     "output_type": "execute_result"
    }
   ],
   "source": [
    "# Percentage calculation function\n",
    "\n",
    "def calc_percent(num1, total):\n",
    "    return (num1/total)*100\n",
    "\n",
    "# Filtering Patients having Outcome \"Dead\".\n",
    "pt_outcome_death_df = HosDis[HosDis['outcome_during_hospitalization'] == 'Dead']\n",
    "\n",
    "total_no_of_pt_dead = len(pt_outcome_death_df)\n",
    "\n",
    "# Using GroupBy to Group patients by Admit ward and then sorting to find the adm ward with lowest rate of Outcome Death\n",
    "\n",
    "adm_out_pt_df = pt_outcome_death_df.groupby('admission_ward')['inpatient_number'].nunique().reset_index()\n",
    "\n",
    "adm_out_pt_df['Rate of Death % '] = round(calc_percent(adm_out_pt_df['inpatient_number'],total_no_of_pt_dead ), 2)\n",
    "\n",
    "adm_out_pt_df_sorted = adm_out_pt_df.sort_values(by='inpatient_number',  ascending=True).reset_index()\n",
    "\n",
    "adm_out_pt_df_sorted.rename(columns={'inpatient_number':'Patients Count'},inplace= True) \n",
    "\n",
    "print('After Analysing the Data, 3 Admission ward had lowest rate of Outcome Death.')\n",
    "adm_out_pt_df_sorted"
   ]
  },
  {
   "cell_type": "markdown",
   "id": "4bd01621-1d10-4b92-a45c-1a2e5f3e1003",
   "metadata": {},
   "source": [
    "75. What % of those with an outcome of death, had myocardial infarction?"
   ]
  },
  {
   "cell_type": "code",
   "execution_count": 22,
   "id": "2f670ce3-4755-4de2-be3e-160abd84ef37",
   "metadata": {},
   "outputs": [
    {
     "name": "stdout",
     "output_type": "stream",
     "text": [
      "% of Patients with an outcome of death that had Myocardial Infarction is: 9.09 %\n"
     ]
    }
   ],
   "source": [
    "# Filtering Patients having Outcome \"Dead\".\n",
    "pt_outcome_death_df = HosDis[HosDis['outcome_during_hospitalization'] == 'Dead']\n",
    "total_pt_outcome_death = len(pt_outcome_death_df)\n",
    "\n",
    "# Filter patients having Mayocardial Infarction and Outcome of Death\n",
    "cardiac_death_pt1 = pt_outcome_death_df.merge(CardiacComp[['inpatient_number', 'myocardial_infarction']], on ='inpatient_number')\n",
    "cardiac_death_pt1_filtered = cardiac_death_pt1[cardiac_death_pt1['myocardial_infarction'] == 1 ]\n",
    "\n",
    "no_pt_with_myocard = len(cardiac_death_pt1_filtered)\n",
    "\n",
    "# Calculate percentage \n",
    "pt_percent_result = calc_percent(no_pt_with_myocard, total_pt_outcome_death)\n",
    "\n",
    "print('% of Patients with an outcome of death that had Myocardial Infarction is: ' + str(round(pt_percent_result, 2)) + ' %')\n",
    "\n"
   ]
  },
  {
   "cell_type": "markdown",
   "id": "72aba341-aa89-4dd6-81ba-69feaadc334d",
   "metadata": {},
   "source": [
    "76. What is the ratio of those with congestive heart failure to those who had type of heart failure Both?\n"
   ]
  },
  {
   "cell_type": "code",
   "execution_count": 70,
   "id": "e342e318-411c-4021-bfd4-6970d6c56f60",
   "metadata": {},
   "outputs": [
    {
     "name": "stdout",
     "output_type": "stream",
     "text": [
      "Patients with congestive heart failure : 1872\n",
      "Patients with type of heart failure as Both : 1480\n",
      "Ratio of those with congestive heart failure to those who had type of heart failure as Both : 1.26\n"
     ]
    }
   ],
   "source": [
    "\n",
    "# Filtering Patients having congestive heart failure.\n",
    "pt_congestive_heart_failure = CardiacComp[CardiacComp['congestive_heart_failure'] == 1]\n",
    "pt_congestive_heart_failure_ct = len(pt_congestive_heart_failure)\n",
    "\n",
    "# Filtering Patients having type of heart failure as 'Both'\n",
    "pt_type_if_ht_fail_both = CardiacComp[CardiacComp['type_of_heart_failure'] == 'Both']\n",
    "pt_type_if_ht_fail_both_ct = len(pt_type_if_ht_fail_both)\n",
    "\n",
    "ratio = pt_congestive_heart_failure_ct/pt_type_if_ht_fail_both_ct\n",
    "\n",
    "print('Patients with congestive heart failure : ' + str(pt_congestive_heart_failure_ct))\n",
    "print('Patients with type of heart failure as Both : ' + str(pt_type_if_ht_fail_both_ct))\n",
    "      \n",
    "print('Ratio of those with congestive heart failure to those who had type of heart failure as Both : ' + str(round(ratio, 2)))"
   ]
  },
  {
   "cell_type": "markdown",
   "id": "ed2b0893-01b5-4119-b906-2702326b998d",
   "metadata": {},
   "source": [
    "77. LIst the number of cardiogenic shock patients based on hospitalization outcome, having a severe GCS score(higher risk of death)"
   ]
  },
  {
   "cell_type": "code",
   "execution_count": 29,
   "id": "aa6d5058-be41-4ed9-b45f-935615fe3002",
   "metadata": {},
   "outputs": [
    {
     "name": "stdout",
     "output_type": "stream",
     "text": [
      "Severe GCS Score : 3 to 8 \n",
      "Cardiogenic shock is when \"Killip_grade\" = 4 \n",
      "\n",
      "Number of Cardiogenic shock patients based on Hospitalization Outcome, having a severe GCS score(higher risk of death) :\n"
     ]
    },
    {
     "data": {
      "text/html": [
       "<div>\n",
       "<style scoped>\n",
       "    .dataframe tbody tr th:only-of-type {\n",
       "        vertical-align: middle;\n",
       "    }\n",
       "\n",
       "    .dataframe tbody tr th {\n",
       "        vertical-align: top;\n",
       "    }\n",
       "\n",
       "    .dataframe thead th {\n",
       "        text-align: right;\n",
       "    }\n",
       "</style>\n",
       "<table border=\"1\" class=\"dataframe\">\n",
       "  <thead>\n",
       "    <tr style=\"text-align: right;\">\n",
       "      <th></th>\n",
       "      <th>Outcome During Hospitalization</th>\n",
       "      <th>Patients Count</th>\n",
       "    </tr>\n",
       "  </thead>\n",
       "  <tbody>\n",
       "    <tr>\n",
       "      <th>0</th>\n",
       "      <td>Dead</td>\n",
       "      <td>5</td>\n",
       "    </tr>\n",
       "    <tr>\n",
       "      <th>1</th>\n",
       "      <td>DischargeAgainstOrder</td>\n",
       "      <td>7</td>\n",
       "    </tr>\n",
       "  </tbody>\n",
       "</table>\n",
       "</div>"
      ],
      "text/plain": [
       "  Outcome During Hospitalization  Patients Count\n",
       "0                           Dead               5\n",
       "1          DischargeAgainstOrder               7"
      ]
     },
     "execution_count": 29,
     "metadata": {},
     "output_type": "execute_result"
    }
   ],
   "source": [
    "# The relationship between the GCS Score and outcome l is the basis for a common classification of acute traumatic brain injury: \n",
    "# Severe: GCS 3 to 8 , Moderate GCS 9 to 12,  Mild: GCS 13 to 15.\n",
    "\n",
    "# Find the patients with severe GCS Score.\n",
    "pt_wt_severe_gcs = Respons[Respons['GCS'] <=8] \n",
    "\n",
    "# Cardiogenic shock patients \n",
    "pt_wt_cardiogenic_shock  = CardiacComp[CardiacComp['Killip_grade'] == 4 ] \n",
    "\n",
    "# Merge dataframes with Hospitalization_Discharge\n",
    "pt_hosp_wt_severe_gcs = pd.merge(HosDis, pt_wt_severe_gcs[['inpatient_number','GCS']],on='inpatient_number', how='inner')\n",
    "\n",
    "pt_hosp_wt_severe_gcs_card_shock = pd.merge(pt_hosp_wt_severe_gcs, pt_wt_cardiogenic_shock[['inpatient_number','Killip_grade']],on='inpatient_number', how='inner')\n",
    "\n",
    "pt_hosp_wt_severe_gcs_card_shock_grp = pt_hosp_wt_severe_gcs_card_shock.groupby('outcome_during_hospitalization')['inpatient_number'].nunique().reset_index()\n",
    "\n",
    "pt_hosp_wt_severe_gcs_card_shock_grp.rename(columns={'inpatient_number':'Patients Count'},inplace= True) \n",
    "pt_hosp_wt_severe_gcs_card_shock_grp.rename(columns={'outcome_during_hospitalization':'Outcome During Hospitalization'},inplace= True) \n",
    "\n",
    "print('Severe GCS Score : 3 to 8 ')\n",
    "print('Cardiogenic shock is when \"Killip_grade\" = 4 ')\n",
    "print()\n",
    "print('Number of Cardiogenic shock patients based on Hospitalization Outcome, having a severe GCS score(higher risk of death) :')\n",
    "pt_hosp_wt_severe_gcs_card_shock_grp\n"
   ]
  },
  {
   "attachments": {},
   "cell_type": "markdown",
   "id": "ca34e487-dbde-459b-8c63-2399bfc0f1a4",
   "metadata": {},
   "source": [
    "78. Give the count of patients who have experinced tachicardia or bradycardia.\n"
   ]
  },
  {
   "cell_type": "code",
   "execution_count": 17,
   "id": "cece869c-9e06-4087-8bc3-f7d1ca7fb8c7",
   "metadata": {},
   "outputs": [
    {
     "name": "stdout",
     "output_type": "stream",
     "text": [
      "Total Patients Having Tachicardia or Bradycardia: 571\n",
      "Patients Having Tachicardia : 417\n",
      "Patients Having Bradycardia : 154\n"
     ]
    }
   ],
   "source": [
    "# Heart rate <60 --> bradycardia  &  Heart Rate>100 --> tachicardia\n",
    "\n",
    "# Finding Patients Having Bradycardia.\n",
    "bradycardia_pt = Labs[Labs['pulse'] <60] \n",
    "len(bradycardia_pt)\n",
    "\n",
    "# Finding Patients Having Tachicardia.\n",
    "tachicardia_p = Labs[Labs['pulse'] >100] \n",
    "\n",
    "# Total Patients having Having Tachicardia or Bradycardia.\n",
    "len(tachicardia_p)\n",
    "t_b_frames = [bradycardia_pt, tachicardia_p]\n",
    "\n",
    "pt_bd_cd_grouped = pd.concat(t_b_frames)\n",
    "\n",
    "print('Total Patients Having Tachicardia or Bradycardia: ' + str(len(pt_bd_cd_grouped)))\n",
    "print('Patients Having Tachicardia : ' +  str(len(tachicardia_p)))\n",
    "print('Patients Having Bradycardia : ' +  str(len(bradycardia_pt)))\n",
    "\n",
    "\n"
   ]
  },
  {
   "attachments": {},
   "cell_type": "markdown",
   "id": "34e37199-82af-4031-b9d9-c7078af1112c",
   "metadata": {},
   "source": [
    "79. Create a Funnel chart of BMI Category(Normal Weight, Underweight and Obese).\r\n"
   ]
  },
  {
   "cell_type": "code",
   "execution_count": 42,
   "id": "31002655-337b-48ca-bdd4-3d585dd16c04",
   "metadata": {},
   "outputs": [
    {
     "name": "stdout",
     "output_type": "stream",
     "text": [
      "Funnel chart of BMI Category(Normal Weight, Underweight and Obese)\n"
     ]
    },
    {
     "data": {
      "application/vnd.plotly.v1+json": {
       "config": {
        "plotlyServerURL": "https://plot.ly"
       },
       "data": [
        {
         "type": "funnel",
         "x": [
          1184,
          511,
          313
         ],
         "y": [
          "Normal",
          "Undeweight",
          "Obese"
         ]
        }
       ],
       "layout": {
        "autosize": true,
        "template": {
         "data": {
          "bar": [
           {
            "error_x": {
             "color": "#2a3f5f"
            },
            "error_y": {
             "color": "#2a3f5f"
            },
            "marker": {
             "line": {
              "color": "#E5ECF6",
              "width": 0.5
             },
             "pattern": {
              "fillmode": "overlay",
              "size": 10,
              "solidity": 0.2
             }
            },
            "type": "bar"
           }
          ],
          "barpolar": [
           {
            "marker": {
             "line": {
              "color": "#E5ECF6",
              "width": 0.5
             },
             "pattern": {
              "fillmode": "overlay",
              "size": 10,
              "solidity": 0.2
             }
            },
            "type": "barpolar"
           }
          ],
          "carpet": [
           {
            "aaxis": {
             "endlinecolor": "#2a3f5f",
             "gridcolor": "white",
             "linecolor": "white",
             "minorgridcolor": "white",
             "startlinecolor": "#2a3f5f"
            },
            "baxis": {
             "endlinecolor": "#2a3f5f",
             "gridcolor": "white",
             "linecolor": "white",
             "minorgridcolor": "white",
             "startlinecolor": "#2a3f5f"
            },
            "type": "carpet"
           }
          ],
          "choropleth": [
           {
            "colorbar": {
             "outlinewidth": 0,
             "ticks": ""
            },
            "type": "choropleth"
           }
          ],
          "contour": [
           {
            "colorbar": {
             "outlinewidth": 0,
             "ticks": ""
            },
            "colorscale": [
             [
              0,
              "#0d0887"
             ],
             [
              0.1111111111111111,
              "#46039f"
             ],
             [
              0.2222222222222222,
              "#7201a8"
             ],
             [
              0.3333333333333333,
              "#9c179e"
             ],
             [
              0.4444444444444444,
              "#bd3786"
             ],
             [
              0.5555555555555556,
              "#d8576b"
             ],
             [
              0.6666666666666666,
              "#ed7953"
             ],
             [
              0.7777777777777778,
              "#fb9f3a"
             ],
             [
              0.8888888888888888,
              "#fdca26"
             ],
             [
              1,
              "#f0f921"
             ]
            ],
            "type": "contour"
           }
          ],
          "contourcarpet": [
           {
            "colorbar": {
             "outlinewidth": 0,
             "ticks": ""
            },
            "type": "contourcarpet"
           }
          ],
          "heatmap": [
           {
            "colorbar": {
             "outlinewidth": 0,
             "ticks": ""
            },
            "colorscale": [
             [
              0,
              "#0d0887"
             ],
             [
              0.1111111111111111,
              "#46039f"
             ],
             [
              0.2222222222222222,
              "#7201a8"
             ],
             [
              0.3333333333333333,
              "#9c179e"
             ],
             [
              0.4444444444444444,
              "#bd3786"
             ],
             [
              0.5555555555555556,
              "#d8576b"
             ],
             [
              0.6666666666666666,
              "#ed7953"
             ],
             [
              0.7777777777777778,
              "#fb9f3a"
             ],
             [
              0.8888888888888888,
              "#fdca26"
             ],
             [
              1,
              "#f0f921"
             ]
            ],
            "type": "heatmap"
           }
          ],
          "heatmapgl": [
           {
            "colorbar": {
             "outlinewidth": 0,
             "ticks": ""
            },
            "colorscale": [
             [
              0,
              "#0d0887"
             ],
             [
              0.1111111111111111,
              "#46039f"
             ],
             [
              0.2222222222222222,
              "#7201a8"
             ],
             [
              0.3333333333333333,
              "#9c179e"
             ],
             [
              0.4444444444444444,
              "#bd3786"
             ],
             [
              0.5555555555555556,
              "#d8576b"
             ],
             [
              0.6666666666666666,
              "#ed7953"
             ],
             [
              0.7777777777777778,
              "#fb9f3a"
             ],
             [
              0.8888888888888888,
              "#fdca26"
             ],
             [
              1,
              "#f0f921"
             ]
            ],
            "type": "heatmapgl"
           }
          ],
          "histogram": [
           {
            "marker": {
             "pattern": {
              "fillmode": "overlay",
              "size": 10,
              "solidity": 0.2
             }
            },
            "type": "histogram"
           }
          ],
          "histogram2d": [
           {
            "colorbar": {
             "outlinewidth": 0,
             "ticks": ""
            },
            "colorscale": [
             [
              0,
              "#0d0887"
             ],
             [
              0.1111111111111111,
              "#46039f"
             ],
             [
              0.2222222222222222,
              "#7201a8"
             ],
             [
              0.3333333333333333,
              "#9c179e"
             ],
             [
              0.4444444444444444,
              "#bd3786"
             ],
             [
              0.5555555555555556,
              "#d8576b"
             ],
             [
              0.6666666666666666,
              "#ed7953"
             ],
             [
              0.7777777777777778,
              "#fb9f3a"
             ],
             [
              0.8888888888888888,
              "#fdca26"
             ],
             [
              1,
              "#f0f921"
             ]
            ],
            "type": "histogram2d"
           }
          ],
          "histogram2dcontour": [
           {
            "colorbar": {
             "outlinewidth": 0,
             "ticks": ""
            },
            "colorscale": [
             [
              0,
              "#0d0887"
             ],
             [
              0.1111111111111111,
              "#46039f"
             ],
             [
              0.2222222222222222,
              "#7201a8"
             ],
             [
              0.3333333333333333,
              "#9c179e"
             ],
             [
              0.4444444444444444,
              "#bd3786"
             ],
             [
              0.5555555555555556,
              "#d8576b"
             ],
             [
              0.6666666666666666,
              "#ed7953"
             ],
             [
              0.7777777777777778,
              "#fb9f3a"
             ],
             [
              0.8888888888888888,
              "#fdca26"
             ],
             [
              1,
              "#f0f921"
             ]
            ],
            "type": "histogram2dcontour"
           }
          ],
          "mesh3d": [
           {
            "colorbar": {
             "outlinewidth": 0,
             "ticks": ""
            },
            "type": "mesh3d"
           }
          ],
          "parcoords": [
           {
            "line": {
             "colorbar": {
              "outlinewidth": 0,
              "ticks": ""
             }
            },
            "type": "parcoords"
           }
          ],
          "pie": [
           {
            "automargin": true,
            "type": "pie"
           }
          ],
          "scatter": [
           {
            "fillpattern": {
             "fillmode": "overlay",
             "size": 10,
             "solidity": 0.2
            },
            "type": "scatter"
           }
          ],
          "scatter3d": [
           {
            "line": {
             "colorbar": {
              "outlinewidth": 0,
              "ticks": ""
             }
            },
            "marker": {
             "colorbar": {
              "outlinewidth": 0,
              "ticks": ""
             }
            },
            "type": "scatter3d"
           }
          ],
          "scattercarpet": [
           {
            "marker": {
             "colorbar": {
              "outlinewidth": 0,
              "ticks": ""
             }
            },
            "type": "scattercarpet"
           }
          ],
          "scattergeo": [
           {
            "marker": {
             "colorbar": {
              "outlinewidth": 0,
              "ticks": ""
             }
            },
            "type": "scattergeo"
           }
          ],
          "scattergl": [
           {
            "marker": {
             "colorbar": {
              "outlinewidth": 0,
              "ticks": ""
             }
            },
            "type": "scattergl"
           }
          ],
          "scattermapbox": [
           {
            "marker": {
             "colorbar": {
              "outlinewidth": 0,
              "ticks": ""
             }
            },
            "type": "scattermapbox"
           }
          ],
          "scatterpolar": [
           {
            "marker": {
             "colorbar": {
              "outlinewidth": 0,
              "ticks": ""
             }
            },
            "type": "scatterpolar"
           }
          ],
          "scatterpolargl": [
           {
            "marker": {
             "colorbar": {
              "outlinewidth": 0,
              "ticks": ""
             }
            },
            "type": "scatterpolargl"
           }
          ],
          "scatterternary": [
           {
            "marker": {
             "colorbar": {
              "outlinewidth": 0,
              "ticks": ""
             }
            },
            "type": "scatterternary"
           }
          ],
          "surface": [
           {
            "colorbar": {
             "outlinewidth": 0,
             "ticks": ""
            },
            "colorscale": [
             [
              0,
              "#0d0887"
             ],
             [
              0.1111111111111111,
              "#46039f"
             ],
             [
              0.2222222222222222,
              "#7201a8"
             ],
             [
              0.3333333333333333,
              "#9c179e"
             ],
             [
              0.4444444444444444,
              "#bd3786"
             ],
             [
              0.5555555555555556,
              "#d8576b"
             ],
             [
              0.6666666666666666,
              "#ed7953"
             ],
             [
              0.7777777777777778,
              "#fb9f3a"
             ],
             [
              0.8888888888888888,
              "#fdca26"
             ],
             [
              1,
              "#f0f921"
             ]
            ],
            "type": "surface"
           }
          ],
          "table": [
           {
            "cells": {
             "fill": {
              "color": "#EBF0F8"
             },
             "line": {
              "color": "white"
             }
            },
            "header": {
             "fill": {
              "color": "#C8D4E3"
             },
             "line": {
              "color": "white"
             }
            },
            "type": "table"
           }
          ]
         },
         "layout": {
          "annotationdefaults": {
           "arrowcolor": "#2a3f5f",
           "arrowhead": 0,
           "arrowwidth": 1
          },
          "autotypenumbers": "strict",
          "coloraxis": {
           "colorbar": {
            "outlinewidth": 0,
            "ticks": ""
           }
          },
          "colorscale": {
           "diverging": [
            [
             0,
             "#8e0152"
            ],
            [
             0.1,
             "#c51b7d"
            ],
            [
             0.2,
             "#de77ae"
            ],
            [
             0.3,
             "#f1b6da"
            ],
            [
             0.4,
             "#fde0ef"
            ],
            [
             0.5,
             "#f7f7f7"
            ],
            [
             0.6,
             "#e6f5d0"
            ],
            [
             0.7,
             "#b8e186"
            ],
            [
             0.8,
             "#7fbc41"
            ],
            [
             0.9,
             "#4d9221"
            ],
            [
             1,
             "#276419"
            ]
           ],
           "sequential": [
            [
             0,
             "#0d0887"
            ],
            [
             0.1111111111111111,
             "#46039f"
            ],
            [
             0.2222222222222222,
             "#7201a8"
            ],
            [
             0.3333333333333333,
             "#9c179e"
            ],
            [
             0.4444444444444444,
             "#bd3786"
            ],
            [
             0.5555555555555556,
             "#d8576b"
            ],
            [
             0.6666666666666666,
             "#ed7953"
            ],
            [
             0.7777777777777778,
             "#fb9f3a"
            ],
            [
             0.8888888888888888,
             "#fdca26"
            ],
            [
             1,
             "#f0f921"
            ]
           ],
           "sequentialminus": [
            [
             0,
             "#0d0887"
            ],
            [
             0.1111111111111111,
             "#46039f"
            ],
            [
             0.2222222222222222,
             "#7201a8"
            ],
            [
             0.3333333333333333,
             "#9c179e"
            ],
            [
             0.4444444444444444,
             "#bd3786"
            ],
            [
             0.5555555555555556,
             "#d8576b"
            ],
            [
             0.6666666666666666,
             "#ed7953"
            ],
            [
             0.7777777777777778,
             "#fb9f3a"
            ],
            [
             0.8888888888888888,
             "#fdca26"
            ],
            [
             1,
             "#f0f921"
            ]
           ]
          },
          "colorway": [
           "#636efa",
           "#EF553B",
           "#00cc96",
           "#ab63fa",
           "#FFA15A",
           "#19d3f3",
           "#FF6692",
           "#B6E880",
           "#FF97FF",
           "#FECB52"
          ],
          "font": {
           "color": "#2a3f5f"
          },
          "geo": {
           "bgcolor": "white",
           "lakecolor": "white",
           "landcolor": "#E5ECF6",
           "showlakes": true,
           "showland": true,
           "subunitcolor": "white"
          },
          "hoverlabel": {
           "align": "left"
          },
          "hovermode": "closest",
          "mapbox": {
           "style": "light"
          },
          "paper_bgcolor": "white",
          "plot_bgcolor": "#E5ECF6",
          "polar": {
           "angularaxis": {
            "gridcolor": "white",
            "linecolor": "white",
            "ticks": ""
           },
           "bgcolor": "#E5ECF6",
           "radialaxis": {
            "gridcolor": "white",
            "linecolor": "white",
            "ticks": ""
           }
          },
          "scene": {
           "xaxis": {
            "backgroundcolor": "#E5ECF6",
            "gridcolor": "white",
            "gridwidth": 2,
            "linecolor": "white",
            "showbackground": true,
            "ticks": "",
            "zerolinecolor": "white"
           },
           "yaxis": {
            "backgroundcolor": "#E5ECF6",
            "gridcolor": "white",
            "gridwidth": 2,
            "linecolor": "white",
            "showbackground": true,
            "ticks": "",
            "zerolinecolor": "white"
           },
           "zaxis": {
            "backgroundcolor": "#E5ECF6",
            "gridcolor": "white",
            "gridwidth": 2,
            "linecolor": "white",
            "showbackground": true,
            "ticks": "",
            "zerolinecolor": "white"
           }
          },
          "shapedefaults": {
           "line": {
            "color": "#2a3f5f"
           }
          },
          "ternary": {
           "aaxis": {
            "gridcolor": "white",
            "linecolor": "white",
            "ticks": ""
           },
           "baxis": {
            "gridcolor": "white",
            "linecolor": "white",
            "ticks": ""
           },
           "bgcolor": "#E5ECF6",
           "caxis": {
            "gridcolor": "white",
            "linecolor": "white",
            "ticks": ""
           }
          },
          "title": {
           "x": 0.05
          },
          "xaxis": {
           "automargin": true,
           "gridcolor": "white",
           "linecolor": "white",
           "ticks": "",
           "title": {
            "standoff": 15
           },
           "zerolinecolor": "white",
           "zerolinewidth": 2
          },
          "yaxis": {
           "automargin": true,
           "gridcolor": "white",
           "linecolor": "white",
           "ticks": "",
           "title": {
            "standoff": 15
           },
           "zerolinecolor": "white",
           "zerolinewidth": 2
          }
         }
        },
        "xaxis": {
         "autorange": true,
         "range": [
          -657.7777777777778,
          657.7777777777778
         ],
         "type": "linear"
        },
        "yaxis": {
         "autorange": true,
         "range": [
          2.5,
          -0.5
         ],
         "type": "category"
        }
       }
      },
      "image/png": "[encoded data removed]",
      "text/html": [
       "<div>                            <div id=\"7b646bfd-8364-4cdb-830f-3242dd9fa147\" class=\"plotly-graph-div\" style=\"height:525px; width:100%;\"></div>            <script type=\"text/javascript\">                require([\"plotly\"], function(Plotly) {                    window.PLOTLYENV=window.PLOTLYENV || {};                                    if (document.getElementById(\"7b646bfd-8364-4cdb-830f-3242dd9fa147\")) {                    Plotly.newPlot(                        \"7b646bfd-8364-4cdb-830f-3242dd9fa147\",                        [{\"x\":[1184,511,313],\"y\":[\"Normal\",\"Undeweight\",\"Obese\"],\"type\":\"funnel\"}],                        {\"template\":{\"data\":{\"histogram2dcontour\":[{\"type\":\"histogram2dcontour\",\"colorbar\":{\"outlinewidth\":0,\"ticks\":\"\"},\"colorscale\":[[0.0,\"#0d0887\"],[0.1111111111111111,\"#46039f\"],[0.2222222222222222,\"#7201a8\"],[0.3333333333333333,\"#9c179e\"],[0.4444444444444444,\"#bd3786\"],[0.5555555555555556,\"#d8576b\"],[0.6666666666666666,\"#ed7953\"],[0.7777777777777778,\"#fb9f3a\"],[0.8888888888888888,\"#fdca26\"],[1.0,\"#f0f921\"]]}],\"choropleth\":[{\"type\":\"choropleth\",\"colorbar\":{\"outlinewidth\":0,\"ticks\":\"\"}}],\"histogram2d\":[{\"type\":\"histogram2d\",\"colorbar\":{\"outlinewidth\":0,\"ticks\":\"\"},\"colorscale\":[[0.0,\"#0d0887\"],[0.1111111111111111,\"#46039f\"],[0.2222222222222222,\"#7201a8\"],[0.3333333333333333,\"#9c179e\"],[0.4444444444444444,\"#bd3786\"],[0.5555555555555556,\"#d8576b\"],[0.6666666666666666,\"#ed7953\"],[0.7777777777777778,\"#fb9f3a\"],[0.8888888888888888,\"#fdca26\"],[1.0,\"#f0f921\"]]}],\"heatmap\":[{\"type\":\"heatmap\",\"colorbar\":{\"outlinewidth\":0,\"ticks\":\"\"},\"colorscale\":[[0.0,\"#0d0887\"],[0.1111111111111111,\"#46039f\"],[0.2222222222222222,\"#7201a8\"],[0.3333333333333333,\"#9c179e\"],[0.4444444444444444,\"#bd3786\"],[0.5555555555555556,\"#d8576b\"],[0.6666666666666666,\"#ed7953\"],[0.7777777777777778,\"#fb9f3a\"],[0.8888888888888888,\"#fdca26\"],[1.0,\"#f0f921\"]]}],\"heatmapgl\":[{\"type\":\"heatmapgl\",\"colorbar\":{\"outlinewidth\":0,\"ticks\":\"\"},\"colorscale\":[[0.0,\"#0d0887\"],[0.1111111111111111,\"#46039f\"],[0.2222222222222222,\"#7201a8\"],[0.3333333333333333,\"#9c179e\"],[0.4444444444444444,\"#bd3786\"],[0.5555555555555556,\"#d8576b\"],[0.6666666666666666,\"#ed7953\"],[0.7777777777777778,\"#fb9f3a\"],[0.8888888888888888,\"#fdca26\"],[1.0,\"#f0f921\"]]}],\"contourcarpet\":[{\"type\":\"contourcarpet\",\"colorbar\":{\"outlinewidth\":0,\"ticks\":\"\"}}],\"contour\":[{\"type\":\"contour\",\"colorbar\":{\"outlinewidth\":0,\"ticks\":\"\"},\"colorscale\":[[0.0,\"#0d0887\"],[0.1111111111111111,\"#46039f\"],[0.2222222222222222,\"#7201a8\"],[0.3333333333333333,\"#9c179e\"],[0.4444444444444444,\"#bd3786\"],[0.5555555555555556,\"#d8576b\"],[0.6666666666666666,\"#ed7953\"],[0.7777777777777778,\"#fb9f3a\"],[0.8888888888888888,\"#fdca26\"],[1.0,\"#f0f921\"]]}],\"surface\":[{\"type\":\"surface\",\"colorbar\":{\"outlinewidth\":0,\"ticks\":\"\"},\"colorscale\":[[0.0,\"#0d0887\"],[0.1111111111111111,\"#46039f\"],[0.2222222222222222,\"#7201a8\"],[0.3333333333333333,\"#9c179e\"],[0.4444444444444444,\"#bd3786\"],[0.5555555555555556,\"#d8576b\"],[0.6666666666666666,\"#ed7953\"],[0.7777777777777778,\"#fb9f3a\"],[0.8888888888888888,\"#fdca26\"],[1.0,\"#f0f921\"]]}],\"mesh3d\":[{\"type\":\"mesh3d\",\"colorbar\":{\"outlinewidth\":0,\"ticks\":\"\"}}],\"scatter\":[{\"fillpattern\":{\"fillmode\":\"overlay\",\"size\":10,\"solidity\":0.2},\"type\":\"scatter\"}],\"parcoords\":[{\"type\":\"parcoords\",\"line\":{\"colorbar\":{\"outlinewidth\":0,\"ticks\":\"\"}}}],\"scatterpolargl\":[{\"type\":\"scatterpolargl\",\"marker\":{\"colorbar\":{\"outlinewidth\":0,\"ticks\":\"\"}}}],\"bar\":[{\"error_x\":{\"color\":\"#2a3f5f\"},\"error_y\":{\"color\":\"#2a3f5f\"},\"marker\":{\"line\":{\"color\":\"#E5ECF6\",\"width\":0.5},\"pattern\":{\"fillmode\":\"overlay\",\"size\":10,\"solidity\":0.2}},\"type\":\"bar\"}],\"scattergeo\":[{\"type\":\"scattergeo\",\"marker\":{\"colorbar\":{\"outlinewidth\":0,\"ticks\":\"\"}}}],\"scatterpolar\":[{\"type\":\"scatterpolar\",\"marker\":{\"colorbar\":{\"outlinewidth\":0,\"ticks\":\"\"}}}],\"histogram\":[{\"marker\":{\"pattern\":{\"fillmode\":\"overlay\",\"size\":10,\"solidity\":0.2}},\"type\":\"histogram\"}],\"scattergl\":[{\"type\":\"scattergl\",\"marker\":{\"colorbar\":{\"outlinewidth\":0,\"ticks\":\"\"}}}],\"scatter3d\":[{\"type\":\"scatter3d\",\"line\":{\"colorbar\":{\"outlinewidth\":0,\"ticks\":\"\"}},\"marker\":{\"colorbar\":{\"outlinewidth\":0,\"ticks\":\"\"}}}],\"scattermapbox\":[{\"type\":\"scattermapbox\",\"marker\":{\"colorbar\":{\"outlinewidth\":0,\"ticks\":\"\"}}}],\"scatterternary\":[{\"type\":\"scatterternary\",\"marker\":{\"colorbar\":{\"outlinewidth\":0,\"ticks\":\"\"}}}],\"scattercarpet\":[{\"type\":\"scattercarpet\",\"marker\":{\"colorbar\":{\"outlinewidth\":0,\"ticks\":\"\"}}}],\"carpet\":[{\"aaxis\":{\"endlinecolor\":\"#2a3f5f\",\"gridcolor\":\"white\",\"linecolor\":\"white\",\"minorgridcolor\":\"white\",\"startlinecolor\":\"#2a3f5f\"},\"baxis\":{\"endlinecolor\":\"#2a3f5f\",\"gridcolor\":\"white\",\"linecolor\":\"white\",\"minorgridcolor\":\"white\",\"startlinecolor\":\"#2a3f5f\"},\"type\":\"carpet\"}],\"table\":[{\"cells\":{\"fill\":{\"color\":\"#EBF0F8\"},\"line\":{\"color\":\"white\"}},\"header\":{\"fill\":{\"color\":\"#C8D4E3\"},\"line\":{\"color\":\"white\"}},\"type\":\"table\"}],\"barpolar\":[{\"marker\":{\"line\":{\"color\":\"#E5ECF6\",\"width\":0.5},\"pattern\":{\"fillmode\":\"overlay\",\"size\":10,\"solidity\":0.2}},\"type\":\"barpolar\"}],\"pie\":[{\"automargin\":true,\"type\":\"pie\"}]},\"layout\":{\"autotypenumbers\":\"strict\",\"colorway\":[\"#636efa\",\"#EF553B\",\"#00cc96\",\"#ab63fa\",\"#FFA15A\",\"#19d3f3\",\"#FF6692\",\"#B6E880\",\"#FF97FF\",\"#FECB52\"],\"font\":{\"color\":\"#2a3f5f\"},\"hovermode\":\"closest\",\"hoverlabel\":{\"align\":\"left\"},\"paper_bgcolor\":\"white\",\"plot_bgcolor\":\"#E5ECF6\",\"polar\":{\"bgcolor\":\"#E5ECF6\",\"angularaxis\":{\"gridcolor\":\"white\",\"linecolor\":\"white\",\"ticks\":\"\"},\"radialaxis\":{\"gridcolor\":\"white\",\"linecolor\":\"white\",\"ticks\":\"\"}},\"ternary\":{\"bgcolor\":\"#E5ECF6\",\"aaxis\":{\"gridcolor\":\"white\",\"linecolor\":\"white\",\"ticks\":\"\"},\"baxis\":{\"gridcolor\":\"white\",\"linecolor\":\"white\",\"ticks\":\"\"},\"caxis\":{\"gridcolor\":\"white\",\"linecolor\":\"white\",\"ticks\":\"\"}},\"coloraxis\":{\"colorbar\":{\"outlinewidth\":0,\"ticks\":\"\"}},\"colorscale\":{\"sequential\":[[0.0,\"#0d0887\"],[0.1111111111111111,\"#46039f\"],[0.2222222222222222,\"#7201a8\"],[0.3333333333333333,\"#9c179e\"],[0.4444444444444444,\"#bd3786\"],[0.5555555555555556,\"#d8576b\"],[0.6666666666666666,\"#ed7953\"],[0.7777777777777778,\"#fb9f3a\"],[0.8888888888888888,\"#fdca26\"],[1.0,\"#f0f921\"]],\"sequentialminus\":[[0.0,\"#0d0887\"],[0.1111111111111111,\"#46039f\"],[0.2222222222222222,\"#7201a8\"],[0.3333333333333333,\"#9c179e\"],[0.4444444444444444,\"#bd3786\"],[0.5555555555555556,\"#d8576b\"],[0.6666666666666666,\"#ed7953\"],[0.7777777777777778,\"#fb9f3a\"],[0.8888888888888888,\"#fdca26\"],[1.0,\"#f0f921\"]],\"diverging\":[[0,\"#8e0152\"],[0.1,\"#c51b7d\"],[0.2,\"#de77ae\"],[0.3,\"#f1b6da\"],[0.4,\"#fde0ef\"],[0.5,\"#f7f7f7\"],[0.6,\"#e6f5d0\"],[0.7,\"#b8e186\"],[0.8,\"#7fbc41\"],[0.9,\"#4d9221\"],[1,\"#276419\"]]},\"xaxis\":{\"gridcolor\":\"white\",\"linecolor\":\"white\",\"ticks\":\"\",\"title\":{\"standoff\":15},\"zerolinecolor\":\"white\",\"automargin\":true,\"zerolinewidth\":2},\"yaxis\":{\"gridcolor\":\"white\",\"linecolor\":\"white\",\"ticks\":\"\",\"title\":{\"standoff\":15},\"zerolinecolor\":\"white\",\"automargin\":true,\"zerolinewidth\":2},\"scene\":{\"xaxis\":{\"backgroundcolor\":\"#E5ECF6\",\"gridcolor\":\"white\",\"linecolor\":\"white\",\"showbackground\":true,\"ticks\":\"\",\"zerolinecolor\":\"white\",\"gridwidth\":2},\"yaxis\":{\"backgroundcolor\":\"#E5ECF6\",\"gridcolor\":\"white\",\"linecolor\":\"white\",\"showbackground\":true,\"ticks\":\"\",\"zerolinecolor\":\"white\",\"gridwidth\":2},\"zaxis\":{\"backgroundcolor\":\"#E5ECF6\",\"gridcolor\":\"white\",\"linecolor\":\"white\",\"showbackground\":true,\"ticks\":\"\",\"zerolinecolor\":\"white\",\"gridwidth\":2}},\"shapedefaults\":{\"line\":{\"color\":\"#2a3f5f\"}},\"annotationdefaults\":{\"arrowcolor\":\"#2a3f5f\",\"arrowhead\":0,\"arrowwidth\":1},\"geo\":{\"bgcolor\":\"white\",\"landcolor\":\"#E5ECF6\",\"subunitcolor\":\"white\",\"showland\":true,\"showlakes\":true,\"lakecolor\":\"white\"},\"title\":{\"x\":0.05},\"mapbox\":{\"style\":\"light\"}}}},                        {\"responsive\": true}                    ).then(function(){\n",
       "                            \n",
       "var gd = document.getElementById('7b646bfd-8364-4cdb-830f-3242dd9fa147');\n",
       "var x = new MutationObserver(function (mutations, observer) {{\n",
       "        var display = window.getComputedStyle(gd).display;\n",
       "        if (!display || display === 'none') {{\n",
       "            console.log([gd, 'removed!']);\n",
       "            Plotly.purge(gd);\n",
       "            observer.disconnect();\n",
       "        }}\n",
       "}});\n",
       "\n",
       "// Listen for the removal of the full notebook cells\n",
       "var notebookContainer = gd.closest('#notebook-container');\n",
       "if (notebookContainer) {{\n",
       "    x.observe(notebookContainer, {childList: true});\n",
       "}}\n",
       "\n",
       "// Listen for the clearing of the current output cell\n",
       "var outputEl = gd.closest('.output');\n",
       "if (outputEl) {{\n",
       "    x.observe(outputEl, {childList: true});\n",
       "}}\n",
       "\n",
       "                        })                };                });            </script>        </div>"
      ]
     },
     "metadata": {},
     "output_type": "display_data"
    }
   ],
   "source": [
    "# BMI Category :\n",
    "# BMI <18.5 THEN 'underweight range'\n",
    "# BMI >= 18.5 & BMI <25 THEN 'Normal Range'\n",
    "# BMI >=25 THEN 'Obese' \n",
    "\n",
    "# Normal BMI\n",
    "nor_bim_df =  Demog[(Demog['BMI'] >= 18.5) & (Demog['BMI'] < 25)]\n",
    "under_bim_df =  Demog[Demog['BMI'] < 18.5] \n",
    "obese_bim_df =  Demog[Demog['BMI'] >= 25] \n",
    "print('Funnel chart of BMI Category(Normal Weight, Underweight and Obese)')\n",
    "\n",
    "from plotly import graph_objects as go\n",
    "\n",
    "fig = go.Figure(go.Funnel(\n",
    "    y = [\"Normal\", \"Undeweight\", \"Obese\"],\n",
    "    x = [len(nor_bim_df), len(under_bim_df), len(obese_bim_df)]))\n",
    "\n",
    "fig.show()\n"
   ]
  },
  {
   "cell_type": "markdown",
   "id": "e7610d1d-58a9-47a6-9657-b550937f4ea4",
   "metadata": {},
   "source": [
    "26. Create a column that randomly generates an age between the age group given for each patient. What was the average age of the patients?"
   ]
  },
  {
   "cell_type": "code",
   "execution_count": 22,
   "id": "99b4c9a2-9bb1-4da9-8d33-01b28b9fdeb5",
   "metadata": {},
   "outputs": [
    {
     "name": "stdout",
     "output_type": "stream",
     "text": [
      "Average Age of the patients : 69.4\n"
     ]
    }
   ],
   "source": [
    "# Function to generate an age between the age group given for each patient\n",
    "def generate_random_age(age):\n",
    "    if age == '21-29':\n",
    "        return np.random.randint(21,29)\n",
    "    elif age == '29-39':\n",
    "        return np.random.randint(29,39)\n",
    "    elif age == '39-49':\n",
    "        return np.random.randint(39,49)\n",
    "    elif age == '49-59':\n",
    "        return np.random.randint(49,59)      \n",
    "    elif age == '59-69':\n",
    "        return np.random.randint(59,69)      \n",
    "    elif age == '69-79':\n",
    "        return np.random.randint(69,79)     \n",
    "    elif age == '79-89':\n",
    "        return np.random.randint(79,89)      \n",
    "    elif age == '89-99':\n",
    "        return np.random.randint(89,99)      \n",
    "    else:\n",
    "        return np.random.randint(0,20)   \n",
    "\n",
    "# Apply the function to the ageCat column using the apply() function\n",
    "\n",
    "updated_Demog1 = Demog\n",
    "updated_Demog1['Age'] = Demog['ageCat'].apply(generate_random_age)\n",
    "updated_Demog1.head(5)\n",
    "\n",
    "# Find the Average Age of Patients\n",
    "\n",
    "patients_avg_Age = updated_Demog1['Age'].mean()\n",
    "print('Average Age of the patients : ' + str( round(patients_avg_Age, 2) ))\n"
   ]
  },
  {
   "cell_type": "markdown",
   "id": "c41ecf5e-6850-4358-8293-a2ab6cc958c3",
   "metadata": {},
   "source": [
    "27. Using the age column generated in Q.26, calculate year of birth for each patient"
   ]
  },
  {
   "cell_type": "code",
   "execution_count": 23,
   "id": "c0d2847a-08b0-433b-b331-9cfdad4aa23c",
   "metadata": {},
   "outputs": [
    {
     "data": {
      "text/html": [
       "<div>\n",
       "<style scoped>\n",
       "    .dataframe tbody tr th:only-of-type {\n",
       "        vertical-align: middle;\n",
       "    }\n",
       "\n",
       "    .dataframe tbody tr th {\n",
       "        vertical-align: top;\n",
       "    }\n",
       "\n",
       "    .dataframe thead th {\n",
       "        text-align: right;\n",
       "    }\n",
       "</style>\n",
       "<table border=\"1\" class=\"dataframe\">\n",
       "  <thead>\n",
       "    <tr style=\"text-align: right;\">\n",
       "      <th></th>\n",
       "      <th>inpatient_number</th>\n",
       "      <th>gender</th>\n",
       "      <th>weight</th>\n",
       "      <th>height</th>\n",
       "      <th>BMI</th>\n",
       "      <th>occupation</th>\n",
       "      <th>ageCat</th>\n",
       "      <th>Age</th>\n",
       "      <th>Birth Year</th>\n",
       "    </tr>\n",
       "  </thead>\n",
       "  <tbody>\n",
       "    <tr>\n",
       "      <th>0</th>\n",
       "      <td>857781</td>\n",
       "      <td>Male</td>\n",
       "      <td>50.0</td>\n",
       "      <td>1.64</td>\n",
       "      <td>18.590125</td>\n",
       "      <td>UrbanResident</td>\n",
       "      <td>69-79</td>\n",
       "      <td>73</td>\n",
       "      <td>1951</td>\n",
       "    </tr>\n",
       "    <tr>\n",
       "      <th>1</th>\n",
       "      <td>743087</td>\n",
       "      <td>Female</td>\n",
       "      <td>51.0</td>\n",
       "      <td>1.63</td>\n",
       "      <td>19.195303</td>\n",
       "      <td>UrbanResident</td>\n",
       "      <td>69-79</td>\n",
       "      <td>70</td>\n",
       "      <td>1954</td>\n",
       "    </tr>\n",
       "    <tr>\n",
       "      <th>2</th>\n",
       "      <td>866418</td>\n",
       "      <td>Male</td>\n",
       "      <td>70.0</td>\n",
       "      <td>1.70</td>\n",
       "      <td>24.221453</td>\n",
       "      <td>farmer</td>\n",
       "      <td>59-69</td>\n",
       "      <td>68</td>\n",
       "      <td>1956</td>\n",
       "    </tr>\n",
       "    <tr>\n",
       "      <th>3</th>\n",
       "      <td>775928</td>\n",
       "      <td>Male</td>\n",
       "      <td>65.0</td>\n",
       "      <td>1.70</td>\n",
       "      <td>22.491349</td>\n",
       "      <td>UrbanResident</td>\n",
       "      <td>69-79</td>\n",
       "      <td>76</td>\n",
       "      <td>1948</td>\n",
       "    </tr>\n",
       "    <tr>\n",
       "      <th>4</th>\n",
       "      <td>810128</td>\n",
       "      <td>Female</td>\n",
       "      <td>76.0</td>\n",
       "      <td>1.55</td>\n",
       "      <td>31.633715</td>\n",
       "      <td>UrbanResident</td>\n",
       "      <td>69-79</td>\n",
       "      <td>69</td>\n",
       "      <td>1955</td>\n",
       "    </tr>\n",
       "    <tr>\n",
       "      <th>...</th>\n",
       "      <td>...</td>\n",
       "      <td>...</td>\n",
       "      <td>...</td>\n",
       "      <td>...</td>\n",
       "      <td>...</td>\n",
       "      <td>...</td>\n",
       "      <td>...</td>\n",
       "      <td>...</td>\n",
       "      <td>...</td>\n",
       "    </tr>\n",
       "    <tr>\n",
       "      <th>2003</th>\n",
       "      <td>740689</td>\n",
       "      <td>Female</td>\n",
       "      <td>35.0</td>\n",
       "      <td>1.50</td>\n",
       "      <td>15.555556</td>\n",
       "      <td>Others</td>\n",
       "      <td>79-89</td>\n",
       "      <td>84</td>\n",
       "      <td>1940</td>\n",
       "    </tr>\n",
       "    <tr>\n",
       "      <th>2004</th>\n",
       "      <td>734280</td>\n",
       "      <td>Female</td>\n",
       "      <td>50.0</td>\n",
       "      <td>1.55</td>\n",
       "      <td>20.811655</td>\n",
       "      <td>UrbanResident</td>\n",
       "      <td>79-89</td>\n",
       "      <td>86</td>\n",
       "      <td>1938</td>\n",
       "    </tr>\n",
       "    <tr>\n",
       "      <th>2005</th>\n",
       "      <td>781004</td>\n",
       "      <td>Male</td>\n",
       "      <td>75.0</td>\n",
       "      <td>1.70</td>\n",
       "      <td>25.951557</td>\n",
       "      <td>UrbanResident</td>\n",
       "      <td>39-49</td>\n",
       "      <td>41</td>\n",
       "      <td>1983</td>\n",
       "    </tr>\n",
       "    <tr>\n",
       "      <th>2006</th>\n",
       "      <td>744870</td>\n",
       "      <td>Male</td>\n",
       "      <td>40.0</td>\n",
       "      <td>1.50</td>\n",
       "      <td>17.777778</td>\n",
       "      <td>UrbanResident</td>\n",
       "      <td>49-59</td>\n",
       "      <td>57</td>\n",
       "      <td>1967</td>\n",
       "    </tr>\n",
       "    <tr>\n",
       "      <th>2007</th>\n",
       "      <td>791864</td>\n",
       "      <td>Female</td>\n",
       "      <td>45.0</td>\n",
       "      <td>1.55</td>\n",
       "      <td>18.730489</td>\n",
       "      <td>UrbanResident</td>\n",
       "      <td>79-89</td>\n",
       "      <td>79</td>\n",
       "      <td>1945</td>\n",
       "    </tr>\n",
       "  </tbody>\n",
       "</table>\n",
       "<p>2008 rows × 9 columns</p>\n",
       "</div>"
      ],
      "text/plain": [
       "      inpatient_number  gender  weight  height        BMI     occupation  \\\n",
       "0               857781    Male    50.0    1.64  18.590125  UrbanResident   \n",
       "1               743087  Female    51.0    1.63  19.195303  UrbanResident   \n",
       "2               866418    Male    70.0    1.70  24.221453         farmer   \n",
       "3               775928    Male    65.0    1.70  22.491349  UrbanResident   \n",
       "4               810128  Female    76.0    1.55  31.633715  UrbanResident   \n",
       "...                ...     ...     ...     ...        ...            ...   \n",
       "2003            740689  Female    35.0    1.50  15.555556         Others   \n",
       "2004            734280  Female    50.0    1.55  20.811655  UrbanResident   \n",
       "2005            781004    Male    75.0    1.70  25.951557  UrbanResident   \n",
       "2006            744870    Male    40.0    1.50  17.777778  UrbanResident   \n",
       "2007            791864  Female    45.0    1.55  18.730489  UrbanResident   \n",
       "\n",
       "     ageCat  Age  Birth Year  \n",
       "0     69-79   73        1951  \n",
       "1     69-79   70        1954  \n",
       "2     59-69   68        1956  \n",
       "3     69-79   76        1948  \n",
       "4     69-79   69        1955  \n",
       "...     ...  ...         ...  \n",
       "2003  79-89   84        1940  \n",
       "2004  79-89   86        1938  \n",
       "2005  39-49   41        1983  \n",
       "2006  49-59   57        1967  \n",
       "2007  79-89   79        1945  \n",
       "\n",
       "[2008 rows x 9 columns]"
      ]
     },
     "execution_count": 23,
     "metadata": {},
     "output_type": "execute_result"
    }
   ],
   "source": [
    "# importing date class from datetime module \n",
    "from datetime import date \n",
    "  \n",
    "# creating the date object of today's date \n",
    "todays_date = date.today() \n",
    "\n",
    "# Function to calculate year of birth for each patient\n",
    "def birth_year(age):\n",
    "    return todays_date.year - age\n",
    "\n",
    "updated_Demog2 = updated_Demog1\n",
    "updated_Demog2['Birth Year'] = updated_Demog1['Age'].apply(birth_year)\n",
    "updated_Demog2\n"
   ]
  },
  {
   "cell_type": "markdown",
   "id": "ef417fae-3d46-4b4e-9539-3898b22dded3",
   "metadata": {},
   "source": [
    "44. Based on Q26 and 27 display all demographic details of patients who are born in year 1945"
   ]
  },
  {
   "cell_type": "code",
   "execution_count": 24,
   "id": "ab65c1cf-e1fb-47a0-932c-3888eeb6744a",
   "metadata": {},
   "outputs": [
    {
     "data": {
      "text/html": [
       "<div>\n",
       "<style scoped>\n",
       "    .dataframe tbody tr th:only-of-type {\n",
       "        vertical-align: middle;\n",
       "    }\n",
       "\n",
       "    .dataframe tbody tr th {\n",
       "        vertical-align: top;\n",
       "    }\n",
       "\n",
       "    .dataframe thead th {\n",
       "        text-align: right;\n",
       "    }\n",
       "</style>\n",
       "<table border=\"1\" class=\"dataframe\">\n",
       "  <thead>\n",
       "    <tr style=\"text-align: right;\">\n",
       "      <th></th>\n",
       "      <th>inpatient_number</th>\n",
       "      <th>gender</th>\n",
       "      <th>weight</th>\n",
       "      <th>height</th>\n",
       "      <th>BMI</th>\n",
       "      <th>occupation</th>\n",
       "      <th>ageCat</th>\n",
       "      <th>Age</th>\n",
       "      <th>Birth Year</th>\n",
       "    </tr>\n",
       "  </thead>\n",
       "  <tbody>\n",
       "    <tr>\n",
       "      <th>6</th>\n",
       "      <td>844094</td>\n",
       "      <td>Male</td>\n",
       "      <td>60.0</td>\n",
       "      <td>1.65</td>\n",
       "      <td>22.038567</td>\n",
       "      <td>UrbanResident</td>\n",
       "      <td>79-89</td>\n",
       "      <td>79</td>\n",
       "      <td>1945</td>\n",
       "    </tr>\n",
       "    <tr>\n",
       "      <th>14</th>\n",
       "      <td>780534</td>\n",
       "      <td>Female</td>\n",
       "      <td>50.0</td>\n",
       "      <td>1.50</td>\n",
       "      <td>22.222222</td>\n",
       "      <td>UrbanResident</td>\n",
       "      <td>79-89</td>\n",
       "      <td>79</td>\n",
       "      <td>1945</td>\n",
       "    </tr>\n",
       "    <tr>\n",
       "      <th>40</th>\n",
       "      <td>760822</td>\n",
       "      <td>Female</td>\n",
       "      <td>43.0</td>\n",
       "      <td>1.48</td>\n",
       "      <td>19.631118</td>\n",
       "      <td>UrbanResident</td>\n",
       "      <td>79-89</td>\n",
       "      <td>79</td>\n",
       "      <td>1945</td>\n",
       "    </tr>\n",
       "    <tr>\n",
       "      <th>52</th>\n",
       "      <td>763014</td>\n",
       "      <td>Male</td>\n",
       "      <td>45.0</td>\n",
       "      <td>1.60</td>\n",
       "      <td>17.578125</td>\n",
       "      <td>UrbanResident</td>\n",
       "      <td>79-89</td>\n",
       "      <td>79</td>\n",
       "      <td>1945</td>\n",
       "    </tr>\n",
       "    <tr>\n",
       "      <th>63</th>\n",
       "      <td>859541</td>\n",
       "      <td>Female</td>\n",
       "      <td>42.0</td>\n",
       "      <td>1.48</td>\n",
       "      <td>19.174580</td>\n",
       "      <td>UrbanResident</td>\n",
       "      <td>79-89</td>\n",
       "      <td>79</td>\n",
       "      <td>1945</td>\n",
       "    </tr>\n",
       "    <tr>\n",
       "      <th>...</th>\n",
       "      <td>...</td>\n",
       "      <td>...</td>\n",
       "      <td>...</td>\n",
       "      <td>...</td>\n",
       "      <td>...</td>\n",
       "      <td>...</td>\n",
       "      <td>...</td>\n",
       "      <td>...</td>\n",
       "      <td>...</td>\n",
       "    </tr>\n",
       "    <tr>\n",
       "      <th>1913</th>\n",
       "      <td>827137</td>\n",
       "      <td>Female</td>\n",
       "      <td>35.0</td>\n",
       "      <td>1.45</td>\n",
       "      <td>16.646849</td>\n",
       "      <td>UrbanResident</td>\n",
       "      <td>79-89</td>\n",
       "      <td>79</td>\n",
       "      <td>1945</td>\n",
       "    </tr>\n",
       "    <tr>\n",
       "      <th>1947</th>\n",
       "      <td>782956</td>\n",
       "      <td>Male</td>\n",
       "      <td>80.0</td>\n",
       "      <td>1.75</td>\n",
       "      <td>26.122449</td>\n",
       "      <td>UrbanResident</td>\n",
       "      <td>79-89</td>\n",
       "      <td>79</td>\n",
       "      <td>1945</td>\n",
       "    </tr>\n",
       "    <tr>\n",
       "      <th>1961</th>\n",
       "      <td>799600</td>\n",
       "      <td>Male</td>\n",
       "      <td>50.0</td>\n",
       "      <td>1.58</td>\n",
       "      <td>20.028842</td>\n",
       "      <td>UrbanResident</td>\n",
       "      <td>79-89</td>\n",
       "      <td>79</td>\n",
       "      <td>1945</td>\n",
       "    </tr>\n",
       "    <tr>\n",
       "      <th>1983</th>\n",
       "      <td>852097</td>\n",
       "      <td>Female</td>\n",
       "      <td>47.0</td>\n",
       "      <td>1.53</td>\n",
       "      <td>20.077748</td>\n",
       "      <td>UrbanResident</td>\n",
       "      <td>79-89</td>\n",
       "      <td>79</td>\n",
       "      <td>1945</td>\n",
       "    </tr>\n",
       "    <tr>\n",
       "      <th>2007</th>\n",
       "      <td>791864</td>\n",
       "      <td>Female</td>\n",
       "      <td>45.0</td>\n",
       "      <td>1.55</td>\n",
       "      <td>18.730489</td>\n",
       "      <td>UrbanResident</td>\n",
       "      <td>79-89</td>\n",
       "      <td>79</td>\n",
       "      <td>1945</td>\n",
       "    </tr>\n",
       "  </tbody>\n",
       "</table>\n",
       "<p>68 rows × 9 columns</p>\n",
       "</div>"
      ],
      "text/plain": [
       "      inpatient_number  gender  weight  height        BMI     occupation  \\\n",
       "6               844094    Male    60.0    1.65  22.038567  UrbanResident   \n",
       "14              780534  Female    50.0    1.50  22.222222  UrbanResident   \n",
       "40              760822  Female    43.0    1.48  19.631118  UrbanResident   \n",
       "52              763014    Male    45.0    1.60  17.578125  UrbanResident   \n",
       "63              859541  Female    42.0    1.48  19.174580  UrbanResident   \n",
       "...                ...     ...     ...     ...        ...            ...   \n",
       "1913            827137  Female    35.0    1.45  16.646849  UrbanResident   \n",
       "1947            782956    Male    80.0    1.75  26.122449  UrbanResident   \n",
       "1961            799600    Male    50.0    1.58  20.028842  UrbanResident   \n",
       "1983            852097  Female    47.0    1.53  20.077748  UrbanResident   \n",
       "2007            791864  Female    45.0    1.55  18.730489  UrbanResident   \n",
       "\n",
       "     ageCat  Age  Birth Year  \n",
       "6     79-89   79        1945  \n",
       "14    79-89   79        1945  \n",
       "40    79-89   79        1945  \n",
       "52    79-89   79        1945  \n",
       "63    79-89   79        1945  \n",
       "...     ...  ...         ...  \n",
       "1913  79-89   79        1945  \n",
       "1947  79-89   79        1945  \n",
       "1961  79-89   79        1945  \n",
       "1983  79-89   79        1945  \n",
       "2007  79-89   79        1945  \n",
       "\n",
       "[68 rows x 9 columns]"
      ]
     },
     "execution_count": 24,
     "metadata": {},
     "output_type": "execute_result"
    }
   ],
   "source": [
    "# Filtering on Birth Year column\n",
    "updated_Demog2.loc[updated_Demog2['Birth Year']== 1945]"
   ]
  },
  {
   "cell_type": "markdown",
   "id": "3cd6d5fb-4109-44ab-9e01-57fbdd7ce737",
   "metadata": {},
   "source": [
    "80. Delete the column age from Q26 iteratively."
   ]
  },
  {
   "cell_type": "code",
   "execution_count": 21,
   "id": "fb731c31-9dfa-41d8-84a2-f1e47ebf89de",
   "metadata": {},
   "outputs": [
    {
     "name": "stdout",
     "output_type": "stream",
     "text": [
      "Updated dataframe after deleting Age Column that was created in Q-26 to find Average Age of Patients.\n"
     ]
    },
    {
     "data": {
      "text/html": [
       "<div>\n",
       "<style scoped>\n",
       "    .dataframe tbody tr th:only-of-type {\n",
       "        vertical-align: middle;\n",
       "    }\n",
       "\n",
       "    .dataframe tbody tr th {\n",
       "        vertical-align: top;\n",
       "    }\n",
       "\n",
       "    .dataframe thead th {\n",
       "        text-align: right;\n",
       "    }\n",
       "</style>\n",
       "<table border=\"1\" class=\"dataframe\">\n",
       "  <thead>\n",
       "    <tr style=\"text-align: right;\">\n",
       "      <th></th>\n",
       "      <th>inpatient_number</th>\n",
       "      <th>gender</th>\n",
       "      <th>weight</th>\n",
       "      <th>height</th>\n",
       "      <th>BMI</th>\n",
       "      <th>occupation</th>\n",
       "      <th>ageCat</th>\n",
       "    </tr>\n",
       "  </thead>\n",
       "  <tbody>\n",
       "    <tr>\n",
       "      <th>0</th>\n",
       "      <td>857781</td>\n",
       "      <td>Male</td>\n",
       "      <td>50.0</td>\n",
       "      <td>1.64</td>\n",
       "      <td>18.590125</td>\n",
       "      <td>UrbanResident</td>\n",
       "      <td>69-79</td>\n",
       "    </tr>\n",
       "    <tr>\n",
       "      <th>1</th>\n",
       "      <td>743087</td>\n",
       "      <td>Female</td>\n",
       "      <td>51.0</td>\n",
       "      <td>1.63</td>\n",
       "      <td>19.195303</td>\n",
       "      <td>UrbanResident</td>\n",
       "      <td>69-79</td>\n",
       "    </tr>\n",
       "    <tr>\n",
       "      <th>2</th>\n",
       "      <td>866418</td>\n",
       "      <td>Male</td>\n",
       "      <td>70.0</td>\n",
       "      <td>1.70</td>\n",
       "      <td>24.221453</td>\n",
       "      <td>farmer</td>\n",
       "      <td>59-69</td>\n",
       "    </tr>\n",
       "    <tr>\n",
       "      <th>3</th>\n",
       "      <td>775928</td>\n",
       "      <td>Male</td>\n",
       "      <td>65.0</td>\n",
       "      <td>1.70</td>\n",
       "      <td>22.491349</td>\n",
       "      <td>UrbanResident</td>\n",
       "      <td>69-79</td>\n",
       "    </tr>\n",
       "    <tr>\n",
       "      <th>4</th>\n",
       "      <td>810128</td>\n",
       "      <td>Female</td>\n",
       "      <td>76.0</td>\n",
       "      <td>1.55</td>\n",
       "      <td>31.633715</td>\n",
       "      <td>UrbanResident</td>\n",
       "      <td>69-79</td>\n",
       "    </tr>\n",
       "    <tr>\n",
       "      <th>...</th>\n",
       "      <td>...</td>\n",
       "      <td>...</td>\n",
       "      <td>...</td>\n",
       "      <td>...</td>\n",
       "      <td>...</td>\n",
       "      <td>...</td>\n",
       "      <td>...</td>\n",
       "    </tr>\n",
       "    <tr>\n",
       "      <th>2003</th>\n",
       "      <td>740689</td>\n",
       "      <td>Female</td>\n",
       "      <td>35.0</td>\n",
       "      <td>1.50</td>\n",
       "      <td>15.555556</td>\n",
       "      <td>Others</td>\n",
       "      <td>79-89</td>\n",
       "    </tr>\n",
       "    <tr>\n",
       "      <th>2004</th>\n",
       "      <td>734280</td>\n",
       "      <td>Female</td>\n",
       "      <td>50.0</td>\n",
       "      <td>1.55</td>\n",
       "      <td>20.811655</td>\n",
       "      <td>UrbanResident</td>\n",
       "      <td>79-89</td>\n",
       "    </tr>\n",
       "    <tr>\n",
       "      <th>2005</th>\n",
       "      <td>781004</td>\n",
       "      <td>Male</td>\n",
       "      <td>75.0</td>\n",
       "      <td>1.70</td>\n",
       "      <td>25.951557</td>\n",
       "      <td>UrbanResident</td>\n",
       "      <td>39-49</td>\n",
       "    </tr>\n",
       "    <tr>\n",
       "      <th>2006</th>\n",
       "      <td>744870</td>\n",
       "      <td>Male</td>\n",
       "      <td>40.0</td>\n",
       "      <td>1.50</td>\n",
       "      <td>17.777778</td>\n",
       "      <td>UrbanResident</td>\n",
       "      <td>49-59</td>\n",
       "    </tr>\n",
       "    <tr>\n",
       "      <th>2007</th>\n",
       "      <td>791864</td>\n",
       "      <td>Female</td>\n",
       "      <td>45.0</td>\n",
       "      <td>1.55</td>\n",
       "      <td>18.730489</td>\n",
       "      <td>UrbanResident</td>\n",
       "      <td>79-89</td>\n",
       "    </tr>\n",
       "  </tbody>\n",
       "</table>\n",
       "<p>2008 rows × 7 columns</p>\n",
       "</div>"
      ],
      "text/plain": [
       "      inpatient_number  gender  weight  height        BMI     occupation  \\\n",
       "0               857781    Male    50.0    1.64  18.590125  UrbanResident   \n",
       "1               743087  Female    51.0    1.63  19.195303  UrbanResident   \n",
       "2               866418    Male    70.0    1.70  24.221453         farmer   \n",
       "3               775928    Male    65.0    1.70  22.491349  UrbanResident   \n",
       "4               810128  Female    76.0    1.55  31.633715  UrbanResident   \n",
       "...                ...     ...     ...     ...        ...            ...   \n",
       "2003            740689  Female    35.0    1.50  15.555556         Others   \n",
       "2004            734280  Female    50.0    1.55  20.811655  UrbanResident   \n",
       "2005            781004    Male    75.0    1.70  25.951557  UrbanResident   \n",
       "2006            744870    Male    40.0    1.50  17.777778  UrbanResident   \n",
       "2007            791864  Female    45.0    1.55  18.730489  UrbanResident   \n",
       "\n",
       "     ageCat  \n",
       "0     69-79  \n",
       "1     69-79  \n",
       "2     59-69  \n",
       "3     69-79  \n",
       "4     69-79  \n",
       "...     ...  \n",
       "2003  79-89  \n",
       "2004  79-89  \n",
       "2005  39-49  \n",
       "2006  49-59  \n",
       "2007  79-89  \n",
       "\n",
       "[2008 rows x 7 columns]"
      ]
     },
     "execution_count": 21,
     "metadata": {},
     "output_type": "execute_result"
    }
   ],
   "source": [
    "# Deleting the column 'Age' that was created in Q-26 to find Average Age of Patients.\n",
    "\n",
    "del_df = pd.DataFrame(updated_Demog1)\n",
    "# Columns to delete \n",
    "columns_to_delete = ['Age']\n",
    "# Iteratively delete columns\n",
    "for col in columns_to_delete:\n",
    "    if col in del_df:\n",
    "        del del_df[col]\n",
    "#updated dataframe after deleting 'Age' that was created in Q-26\n",
    "print('Updated dataframe after deleting Age Column that was created in Q-26 to find Average Age of Patients.')\n",
    "del_df"
   ]
  },
  {
   "cell_type": "markdown",
   "id": "951797fa-4539-46f4-8ac6-6dcb9f12cb40",
   "metadata": {},
   "source": [
    "14. Find the list of patients whose DischargeDay is greater than the value given by the user"
   ]
  },
  {
   "cell_type": "code",
   "execution_count": 109,
   "id": "9740ef22-a5bc-4941-839f-29c1f528624f",
   "metadata": {},
   "outputs": [
    {
     "name": "stdin",
     "output_type": "stream",
     "text": [
      "Please enter required Discharge Day :  25\n"
     ]
    },
    {
     "name": "stdout",
     "output_type": "stream",
     "text": [
      "Patients whose DischargeDay is greater than the value given by the user: \n"
     ]
    },
    {
     "data": {
      "text/html": [
       "<div>\n",
       "<style scoped>\n",
       "    .dataframe tbody tr th:only-of-type {\n",
       "        vertical-align: middle;\n",
       "    }\n",
       "\n",
       "    .dataframe tbody tr th {\n",
       "        vertical-align: top;\n",
       "    }\n",
       "\n",
       "    .dataframe thead th {\n",
       "        text-align: right;\n",
       "    }\n",
       "</style>\n",
       "<table border=\"1\" class=\"dataframe\">\n",
       "  <thead>\n",
       "    <tr style=\"text-align: right;\">\n",
       "      <th></th>\n",
       "      <th>inpatient_number</th>\n",
       "      <th>dischargeDay</th>\n",
       "    </tr>\n",
       "  </thead>\n",
       "  <tbody>\n",
       "    <tr>\n",
       "      <th>7</th>\n",
       "      <td>787530</td>\n",
       "      <td>27</td>\n",
       "    </tr>\n",
       "    <tr>\n",
       "      <th>63</th>\n",
       "      <td>859541</td>\n",
       "      <td>30</td>\n",
       "    </tr>\n",
       "    <tr>\n",
       "      <th>89</th>\n",
       "      <td>773090</td>\n",
       "      <td>26</td>\n",
       "    </tr>\n",
       "    <tr>\n",
       "      <th>108</th>\n",
       "      <td>796520</td>\n",
       "      <td>50</td>\n",
       "    </tr>\n",
       "    <tr>\n",
       "      <th>152</th>\n",
       "      <td>791071</td>\n",
       "      <td>30</td>\n",
       "    </tr>\n",
       "    <tr>\n",
       "      <th>...</th>\n",
       "      <td>...</td>\n",
       "      <td>...</td>\n",
       "    </tr>\n",
       "    <tr>\n",
       "      <th>1944</th>\n",
       "      <td>784421</td>\n",
       "      <td>27</td>\n",
       "    </tr>\n",
       "    <tr>\n",
       "      <th>1945</th>\n",
       "      <td>842942</td>\n",
       "      <td>32</td>\n",
       "    </tr>\n",
       "    <tr>\n",
       "      <th>1987</th>\n",
       "      <td>759370</td>\n",
       "      <td>28</td>\n",
       "    </tr>\n",
       "    <tr>\n",
       "      <th>1997</th>\n",
       "      <td>750447</td>\n",
       "      <td>29</td>\n",
       "    </tr>\n",
       "    <tr>\n",
       "      <th>1999</th>\n",
       "      <td>804209</td>\n",
       "      <td>29</td>\n",
       "    </tr>\n",
       "  </tbody>\n",
       "</table>\n",
       "<p>66 rows × 2 columns</p>\n",
       "</div>"
      ],
      "text/plain": [
       "      inpatient_number  dischargeDay\n",
       "7               787530            27\n",
       "63              859541            30\n",
       "89              773090            26\n",
       "108             796520            50\n",
       "152             791071            30\n",
       "...                ...           ...\n",
       "1944            784421            27\n",
       "1945            842942            32\n",
       "1987            759370            28\n",
       "1997            750447            29\n",
       "1999            804209            29\n",
       "\n",
       "[66 rows x 2 columns]"
      ]
     },
     "execution_count": 109,
     "metadata": {},
     "output_type": "execute_result"
    }
   ],
   "source": [
    "user_input_val = input(\"Please enter required Discharge Day : \")\n",
    "\n",
    "discharge_days_filtered = (HosDis.loc[:, ['inpatient_number','dischargeDay']])\n",
    "\n",
    "print('Patients whose DischargeDay is greater than the value given by the user: ')\n",
    "discharge_days_filtered.loc[(HosDis['dischargeDay'] > int(user_input_val))]\n"
   ]
  },
  {
   "cell_type": "markdown",
   "id": "1c1f8281-c4f9-46b3-b624-4733755239dc",
   "metadata": {},
   "source": [
    "39. Create a subplot on x = np.arange(0, 10, 0.1) , y = np.sin(np.pi * x) + x with 2 rows & 2 columns with object oriented approach"
   ]
  },
  {
   "cell_type": "code",
   "execution_count": 20,
   "id": "e0a7adf3-1f60-4d7b-8e9a-5656590fcd28",
   "metadata": {},
   "outputs": [
    {
     "name": "stderr",
     "output_type": "stream",
     "text": [
      "C:\\Users\\dipti\\AppData\\Local\\Temp\\ipykernel_56788\\3895050404.py:19: RuntimeWarning: divide by zero encountered in log\n",
      "  ax.plot(x, np.log(np.arange(100)), 'g')   #np.log(np.arange(100))\n"
     ]
    },
    {
     "data": {
      "image/png": "[encoded data removed]",
      "text/plain": [
       "<Figure size 1200x800 with 4 Axes>"
      ]
     },
     "metadata": {},
     "output_type": "display_data"
    }
   ],
   "source": [
    "# create x and y  data\n",
    "x = np.arange(0, 10, 0.1)\n",
    "y = np.sin(np.pi * x) + x\n",
    "\n",
    "# figure and axes objects\n",
    "fig, axs = plt.subplots(2, 2, figsize=(12, 8))\n",
    "\n",
    "# subplot\n",
    "for i in range(2):\n",
    "    for j in range(2):\n",
    "        ax = axs[i, j]\n",
    "        if i == 0 and j == 0:\n",
    "            ax.plot(x, y, 'm') \n",
    "            ax.set_title('Original Data')\n",
    "        elif i == 0 and j == 1:\n",
    "            ax.plot(x, np.sin(np.pi * x), 'b')  \n",
    "            ax.set_title('Sin Function')\n",
    "        elif i == 1 and j == 0:\n",
    "            ax.plot(x, np.log(np.arange(100)), 'g')   #np.log(np.arange(100)) \n",
    "            ax.set_title('Logarithmic Wave')\n",
    "        elif i == 1 and j == 1:\n",
    "            ax.plot(x, np.random.random(100), 'r') \n",
    "            ax.set_title('Random noise Wave')\n",
    "\n",
    "plt.tight_layout()\n",
    "plt.show()"
   ]
  },
  {
   "cell_type": "code",
   "execution_count": null,
   "id": "983c2392-d64c-4144-9d88-a291a667741f",
   "metadata": {},
   "outputs": [],
   "source": []
  },
  {
   "cell_type": "markdown",
   "id": "1d51b512-34f5-4722-bdb8-7e22ae779a8b",
   "metadata": {},
   "source": [
    "37. Using dischargeDay values print even if it even number and odd if it odd number"
   ]
  },
  {
   "cell_type": "code",
   "execution_count": 128,
   "id": "df59bbdf-a6ea-4b6d-a2f1-e2ed27f5967d",
   "metadata": {},
   "outputs": [
    {
     "data": {
      "text/html": [
       "<div>\n",
       "<style scoped>\n",
       "    .dataframe tbody tr th:only-of-type {\n",
       "        vertical-align: middle;\n",
       "    }\n",
       "\n",
       "    .dataframe tbody tr th {\n",
       "        vertical-align: top;\n",
       "    }\n",
       "\n",
       "    .dataframe thead th {\n",
       "        text-align: right;\n",
       "    }\n",
       "</style>\n",
       "<table border=\"1\" class=\"dataframe\">\n",
       "  <thead>\n",
       "    <tr style=\"text-align: right;\">\n",
       "      <th></th>\n",
       "      <th>inpatient_number</th>\n",
       "      <th>dischargeDay</th>\n",
       "      <th>Even-Odd</th>\n",
       "    </tr>\n",
       "  </thead>\n",
       "  <tbody>\n",
       "    <tr>\n",
       "      <th>0</th>\n",
       "      <td>857781</td>\n",
       "      <td>11</td>\n",
       "      <td>Odd</td>\n",
       "    </tr>\n",
       "    <tr>\n",
       "      <th>1</th>\n",
       "      <td>743087</td>\n",
       "      <td>8</td>\n",
       "      <td>Even</td>\n",
       "    </tr>\n",
       "    <tr>\n",
       "      <th>2</th>\n",
       "      <td>866418</td>\n",
       "      <td>5</td>\n",
       "      <td>Odd</td>\n",
       "    </tr>\n",
       "    <tr>\n",
       "      <th>3</th>\n",
       "      <td>775928</td>\n",
       "      <td>11</td>\n",
       "      <td>Odd</td>\n",
       "    </tr>\n",
       "    <tr>\n",
       "      <th>4</th>\n",
       "      <td>810128</td>\n",
       "      <td>5</td>\n",
       "      <td>Odd</td>\n",
       "    </tr>\n",
       "    <tr>\n",
       "      <th>...</th>\n",
       "      <td>...</td>\n",
       "      <td>...</td>\n",
       "      <td>...</td>\n",
       "    </tr>\n",
       "    <tr>\n",
       "      <th>2003</th>\n",
       "      <td>740689</td>\n",
       "      <td>5</td>\n",
       "      <td>Odd</td>\n",
       "    </tr>\n",
       "    <tr>\n",
       "      <th>2004</th>\n",
       "      <td>734280</td>\n",
       "      <td>8</td>\n",
       "      <td>Even</td>\n",
       "    </tr>\n",
       "    <tr>\n",
       "      <th>2005</th>\n",
       "      <td>781004</td>\n",
       "      <td>14</td>\n",
       "      <td>Even</td>\n",
       "    </tr>\n",
       "    <tr>\n",
       "      <th>2006</th>\n",
       "      <td>744870</td>\n",
       "      <td>1</td>\n",
       "      <td>Odd</td>\n",
       "    </tr>\n",
       "    <tr>\n",
       "      <th>2007</th>\n",
       "      <td>791864</td>\n",
       "      <td>6</td>\n",
       "      <td>Even</td>\n",
       "    </tr>\n",
       "  </tbody>\n",
       "</table>\n",
       "<p>2008 rows × 3 columns</p>\n",
       "</div>"
      ],
      "text/plain": [
       "      inpatient_number  dischargeDay Even-Odd\n",
       "0               857781            11      Odd\n",
       "1               743087             8     Even\n",
       "2               866418             5      Odd\n",
       "3               775928            11      Odd\n",
       "4               810128             5      Odd\n",
       "...                ...           ...      ...\n",
       "2003            740689             5      Odd\n",
       "2004            734280             8     Even\n",
       "2005            781004            14     Even\n",
       "2006            744870             1      Odd\n",
       "2007            791864             6     Even\n",
       "\n",
       "[2008 rows x 3 columns]"
      ]
     },
     "execution_count": 128,
     "metadata": {},
     "output_type": "execute_result"
    }
   ],
   "source": [
    "# Function to find Even/Odd number\n",
    "def find_even_odd(day):\n",
    "    if day % 2 == 0:\n",
    "        return 'Even'\n",
    "    else:\n",
    "        return 'Odd'\n",
    "\n",
    "# Adding the column 'Even-Odd' to updated DF and calling the 'find_even_odd' function\n",
    "discharge_days_even_odd = (HosDis.loc[:, ['inpatient_number','dischargeDay']])\n",
    "discharge_days_even_odd['Even-Odd'] = discharge_days_even_odd['dischargeDay'].apply(find_even_odd)\n",
    "\n",
    "discharge_days_even_odd\n"
   ]
  },
  {
   "cell_type": "code",
   "execution_count": null,
   "id": "d98fff6e-a3d1-4056-9d7f-05662a669b3b",
   "metadata": {},
   "outputs": [],
   "source": []
  },
  {
   "cell_type": "markdown",
   "id": "bb2b3878-3ae4-4f75-a2ed-081e7ae5e996",
   "metadata": {},
   "source": [
    "19. Create a bar chart by making list on Avg BMI and occupation column (with no duplicates) & make the hatchs onto the bar by using set_hatch() method"
   ]
  },
  {
   "cell_type": "code",
   "execution_count": 31,
   "id": "a32fc265-afb1-43b0-ab66-c68ac5720a82",
   "metadata": {},
   "outputs": [
    {
     "data": {
      "image/png": "[encoded data removed]",
      "text/plain": [
       "<Figure size 650x650 with 1 Axes>"
      ]
     },
     "metadata": {},
     "output_type": "display_data"
    }
   ],
   "source": [
    "import seaborn as sns\n",
    "import matplotlib.pyplot as plt\n",
    "\n",
    "# Calculate Average BMI of each Occupation\n",
    "avg_bmi_occ_df = Demog.groupby('occupation')['BMI'].agg(['mean'])\n",
    "\n",
    "avg_bmi_occ_df.rename(columns={'mean':'Avg_BMI'},inplace= True) \n",
    "\n",
    "from matplotlib import pyplot as plt\n",
    "\n",
    "plt.rcParams[\"figure.figsize\"] = [6.50, 6.50]\n",
    "plt.rcParams[\"figure.autolayout\"] = True\n",
    "\n",
    "df = pd.DataFrame(data = avg_bmi_occ_df)\n",
    "ax = plt.figure().add_subplot(111)\n",
    "\n",
    "bars = df.plot(ax=ax, kind='bar')\n",
    "ax.bar_label(ax.containers[0])\n",
    "hatches = [\"*\", \"/\", \"o\", \"x\"]\n",
    "for patch in bars.patches:\n",
    "   patch.set_hatch(hatches[np.random.randint(10)%len(hatches)])\n",
    "\n",
    "plt.show()\n"
   ]
  },
  {
   "cell_type": "code",
   "execution_count": null,
   "id": "43ab40e7-3556-4024-962c-97a321b8e64c",
   "metadata": {},
   "outputs": [],
   "source": [
    "\n"
   ]
  },
  {
   "cell_type": "markdown",
   "id": "a8d1ae6e-2a48-4417-8263-1048fa46170c",
   "metadata": {},
   "source": [
    "24\tWhat columns indicate a prescence of anemia? Create a severity score for anemia and prove or disprove a correlation to Length of stay\t\t\t\t\t\t\t\t\t\t\t\t\t\t\t\t\t\t\t\t\t\t"
   ]
  },
  {
   "cell_type": "code",
   "execution_count": 32,
   "id": "14bbc6f4-1560-4dfb-b9af-bd773d7dd49d",
   "metadata": {},
   "outputs": [
    {
     "name": "stdout",
     "output_type": "stream",
     "text": [
      "columns indicate a prescence of anemia:\n",
      "hemoglobin\n",
      "hematocrit\n",
      "red_blood_cell\n",
      "mean_corpuscular_volume\n",
      "\n",
      "As seen in the co-relation graph, Anemia Scocre and Lenght of Stay are Co-Related\n"
     ]
    },
    {
     "data": {
      "image/png": "[encoded data removed]",
      "text/plain": [
       "<Figure size 800x600 with 1 Axes>"
      ]
     },
     "metadata": {},
     "output_type": "display_data"
    },
    {
     "name": "stdout",
     "output_type": "stream",
     "text": [
      "For Hemoglobin score calculation: Normal mean value of Hgb is taken (Male and Female)\n"
     ]
    }
   ],
   "source": [
    "# Anemia Score: Hemoglobin < 14 g/dL (130 g/L), hematocrit < 42% (< 0.40), or RBC < 4.2 million/mcL (< 4.5 × 10 12/L)\n",
    "\n",
    "# Functions to calculate Anemia scoce based on olumns indicate a prescence of anemia\n",
    "\n",
    "anemia_indicators = Labs[['inpatient_number','hemoglobin', 'hematocrit', 'red_blood_cell', 'mean_corpuscular_volume']].copy()\n",
    "#echo_df.info()\n",
    "def score_hemoglobin(hgb):\n",
    "    if hgb >=130:\n",
    "        return 0\n",
    "    elif (hgb>=100) & (hgb <130):\n",
    "        return 1\n",
    "    elif (hgb>=80) & (hgb <100):\n",
    "        return 2\n",
    "    elif (hgb>=65) & (hgb <80):\n",
    "        return 3\n",
    "    else:\n",
    "        return 0\n",
    "anemia_indicators['hemoglobin_score'] = anemia_indicators['hemoglobin'].apply(score_hemoglobin)\n",
    "\n",
    "def score_hematocrit(x):\n",
    "    if pd.isnull(x):\n",
    "        return 0\n",
    "    elif x > 0.40:\n",
    "        return 0\n",
    "    else:\n",
    "        return 1\n",
    "anemia_indicators['hematocrit_score'] = anemia_indicators['hematocrit'].apply(score_hematocrit)\n",
    "\n",
    "def score_red_blood_cell(x):\n",
    "    if pd.isnull(x):\n",
    "        return 0\n",
    "    elif x > 4.2:\n",
    "        return 0\n",
    "    else:\n",
    "        return 1\n",
    "   \n",
    "anemia_indicators['red_blood_cell_score'] = anemia_indicators['red_blood_cell'].apply(score_red_blood_cell)\n",
    "\n",
    "def score_mean_corpuscular_volume(x):\n",
    "    if pd.isnull(x):\n",
    "        return 0\n",
    "    elif x > 80:\n",
    "        return 0\n",
    "    else:\n",
    "        return 1\n",
    "anemia_indicators['mean_corpuscular_volume_score'] = anemia_indicators['mean_corpuscular_volume'].apply(score_mean_corpuscular_volume)\n",
    "\n",
    "anemia_indicators['total_anemia_score'] = (anemia_indicators['hemoglobin_score'] +\n",
    "                          anemia_indicators['hematocrit_score'] +\n",
    "                          anemia_indicators['red_blood_cell_score'] +\n",
    "                          anemia_indicators['mean_corpuscular_volume_score'] )\n",
    "\n",
    "anemia_ind_df = anemia_indicators.merge(HosDis[['inpatient_number','dischargeDay']], on ='inpatient_number')\n",
    "#anemia_ind_df\n",
    "\n",
    "final_anmemia_df = anemia_ind_df[['inpatient_number','total_anemia_score', 'dischargeDay']].copy()\n",
    "#final_anmemia_df\n",
    "\n",
    "anm_scoring_columns = ['hemoglobin', 'hematocrit', 'red_blood_cell', 'mean_corpuscular_volume']\n",
    "print('columns indicate a prescence of anemia:')\n",
    "print(*anm_scoring_columns, sep = \"\\n\")\n",
    "print()\n",
    "print('As seen in the co-relation graph, Anemia Scocre and Lenght of Stay are Co-Related')\n",
    "\n",
    "plt.figure(figsize=(8, 6))\n",
    "sns.set_style('whitegrid')\n",
    "sns.regplot(x='dischargeDay', y='total_anemia_score', data=final_anmemia_df)\n",
    "plt.xlabel(\"Lenght Of Stay\")\n",
    "plt.ylabel(\"Anemia Score\")\n",
    "plt.show()\n",
    "\n",
    "print('For Hemoglobin score calculation: Normal mean value of Hgb is taken (Male and Female)')"
   ]
  },
  {
   "cell_type": "markdown",
   "id": "2f1c2298-0671-4189-beec-dd214d908bee",
   "metadata": {},
   "source": [
    "46. Convert occupation into numeric by Label encoding"
   ]
  },
  {
   "cell_type": "code",
   "execution_count": 5,
   "id": "7cfad456-8dd1-4c75-8c3e-8aee399f68d1",
   "metadata": {},
   "outputs": [
    {
     "data": {
      "text/html": [
       "<div>\n",
       "<style scoped>\n",
       "    .dataframe tbody tr th:only-of-type {\n",
       "        vertical-align: middle;\n",
       "    }\n",
       "\n",
       "    .dataframe tbody tr th {\n",
       "        vertical-align: top;\n",
       "    }\n",
       "\n",
       "    .dataframe thead th {\n",
       "        text-align: right;\n",
       "    }\n",
       "</style>\n",
       "<table border=\"1\" class=\"dataframe\">\n",
       "  <thead>\n",
       "    <tr style=\"text-align: right;\">\n",
       "      <th></th>\n",
       "      <th>inpatient_number</th>\n",
       "      <th>gender</th>\n",
       "      <th>weight</th>\n",
       "      <th>height</th>\n",
       "      <th>BMI</th>\n",
       "      <th>occupation</th>\n",
       "      <th>ageCat</th>\n",
       "    </tr>\n",
       "  </thead>\n",
       "  <tbody>\n",
       "    <tr>\n",
       "      <th>0</th>\n",
       "      <td>857781</td>\n",
       "      <td>Male</td>\n",
       "      <td>50.0</td>\n",
       "      <td>1.64</td>\n",
       "      <td>18.590125</td>\n",
       "      <td>2</td>\n",
       "      <td>69-79</td>\n",
       "    </tr>\n",
       "    <tr>\n",
       "      <th>1</th>\n",
       "      <td>743087</td>\n",
       "      <td>Female</td>\n",
       "      <td>51.0</td>\n",
       "      <td>1.63</td>\n",
       "      <td>19.195303</td>\n",
       "      <td>2</td>\n",
       "      <td>69-79</td>\n",
       "    </tr>\n",
       "    <tr>\n",
       "      <th>2</th>\n",
       "      <td>866418</td>\n",
       "      <td>Male</td>\n",
       "      <td>70.0</td>\n",
       "      <td>1.70</td>\n",
       "      <td>24.221453</td>\n",
       "      <td>3</td>\n",
       "      <td>59-69</td>\n",
       "    </tr>\n",
       "    <tr>\n",
       "      <th>3</th>\n",
       "      <td>775928</td>\n",
       "      <td>Male</td>\n",
       "      <td>65.0</td>\n",
       "      <td>1.70</td>\n",
       "      <td>22.491349</td>\n",
       "      <td>2</td>\n",
       "      <td>69-79</td>\n",
       "    </tr>\n",
       "    <tr>\n",
       "      <th>4</th>\n",
       "      <td>810128</td>\n",
       "      <td>Female</td>\n",
       "      <td>76.0</td>\n",
       "      <td>1.55</td>\n",
       "      <td>31.633715</td>\n",
       "      <td>2</td>\n",
       "      <td>69-79</td>\n",
       "    </tr>\n",
       "    <tr>\n",
       "      <th>...</th>\n",
       "      <td>...</td>\n",
       "      <td>...</td>\n",
       "      <td>...</td>\n",
       "      <td>...</td>\n",
       "      <td>...</td>\n",
       "      <td>...</td>\n",
       "      <td>...</td>\n",
       "    </tr>\n",
       "    <tr>\n",
       "      <th>2003</th>\n",
       "      <td>740689</td>\n",
       "      <td>Female</td>\n",
       "      <td>35.0</td>\n",
       "      <td>1.50</td>\n",
       "      <td>15.555556</td>\n",
       "      <td>1</td>\n",
       "      <td>79-89</td>\n",
       "    </tr>\n",
       "    <tr>\n",
       "      <th>2004</th>\n",
       "      <td>734280</td>\n",
       "      <td>Female</td>\n",
       "      <td>50.0</td>\n",
       "      <td>1.55</td>\n",
       "      <td>20.811655</td>\n",
       "      <td>2</td>\n",
       "      <td>79-89</td>\n",
       "    </tr>\n",
       "    <tr>\n",
       "      <th>2005</th>\n",
       "      <td>781004</td>\n",
       "      <td>Male</td>\n",
       "      <td>75.0</td>\n",
       "      <td>1.70</td>\n",
       "      <td>25.951557</td>\n",
       "      <td>2</td>\n",
       "      <td>39-49</td>\n",
       "    </tr>\n",
       "    <tr>\n",
       "      <th>2006</th>\n",
       "      <td>744870</td>\n",
       "      <td>Male</td>\n",
       "      <td>40.0</td>\n",
       "      <td>1.50</td>\n",
       "      <td>17.777778</td>\n",
       "      <td>2</td>\n",
       "      <td>49-59</td>\n",
       "    </tr>\n",
       "    <tr>\n",
       "      <th>2007</th>\n",
       "      <td>791864</td>\n",
       "      <td>Female</td>\n",
       "      <td>45.0</td>\n",
       "      <td>1.55</td>\n",
       "      <td>18.730489</td>\n",
       "      <td>2</td>\n",
       "      <td>79-89</td>\n",
       "    </tr>\n",
       "  </tbody>\n",
       "</table>\n",
       "<p>2008 rows × 7 columns</p>\n",
       "</div>"
      ],
      "text/plain": [
       "      inpatient_number  gender  weight  height        BMI  occupation ageCat\n",
       "0               857781    Male    50.0    1.64  18.590125           2  69-79\n",
       "1               743087  Female    51.0    1.63  19.195303           2  69-79\n",
       "2               866418    Male    70.0    1.70  24.221453           3  59-69\n",
       "3               775928    Male    65.0    1.70  22.491349           2  69-79\n",
       "4               810128  Female    76.0    1.55  31.633715           2  69-79\n",
       "...                ...     ...     ...     ...        ...         ...    ...\n",
       "2003            740689  Female    35.0    1.50  15.555556           1  79-89\n",
       "2004            734280  Female    50.0    1.55  20.811655           2  79-89\n",
       "2005            781004    Male    75.0    1.70  25.951557           2  39-49\n",
       "2006            744870    Male    40.0    1.50  17.777778           2  49-59\n",
       "2007            791864  Female    45.0    1.55  18.730489           2  79-89\n",
       "\n",
       "[2008 rows x 7 columns]"
      ]
     },
     "execution_count": 5,
     "metadata": {},
     "output_type": "execute_result"
    }
   ],
   "source": [
    "# Import label encoder \n",
    "from sklearn import preprocessing \n",
    "\n",
    "label_encoded_demog=Demog\n",
    "label_encoder = preprocessing.LabelEncoder()\n",
    "label_encoded_demog['occupation'].unique()\n",
    "label_encoded_demog['occupation']= label_encoder.fit_transform(label_encoded_demog['occupation'])\n",
    "\n",
    "label_encoded_demog"
   ]
  },
  {
   "cell_type": "code",
   "execution_count": null,
   "id": "ee333bf1-1cdf-4605-9dfc-521d593df0e5",
   "metadata": {},
   "outputs": [],
   "source": [
    "\n",
    "45. Create a dataframe with date and time as columns, where the values are the admission time"
   ]
  },
  {
   "cell_type": "code",
   "execution_count": 10,
   "id": "863406bf-14ac-4c52-addc-a32485d988de",
   "metadata": {},
   "outputs": [
    {
     "name": "stdout",
     "output_type": "stream",
     "text": [
      "         Date      Time\n",
      "0  2023-05-09  02:30:00\n",
      "1  2022-05-23  04:15:00\n",
      "2  2021-05-12  08:00:00\n",
      "3  2023-05-06  11:45:00\n",
      "4  2022-05-18  10:30:00\n"
     ]
    }
   ],
   "source": [
    "# create admission_time data\n",
    "admission_time_data = [\n",
    "    \"2023-05-09 02:30:00\",\n",
    "    \"2022-05-23 04:15:00\",\n",
    "    \"2021-05-12 08:00:00\",\n",
    "    \"2023-05-06 11:45:00\",\n",
    "    \"2022-05-18 10:30:00\"\n",
    "]\n",
    "\n",
    "# Create Admission_Time dataframe\n",
    "Admission_Time_df = pd.DataFrame({'Admission_Time': admission_time_data})\n",
    "\n",
    "Admission_Time_df['Admission_Time'] = pd.to_datetime(Admission_Time_df['Admission_Time'])\n",
    "\n",
    "# Getting and placing date and time into separate columns\n",
    "Admission_Time_df['Date'] = Admission_Time_df['Admission_Time'].dt.date\n",
    "Admission_Time_df['Time'] = Admission_Time_df['Admission_Time'].dt.time\n",
    "\n",
    "# drop addmission_time column\n",
    "Admission_Time_df = Admission_Time_df.drop(columns=['Admission_Time'])\n",
    "\n",
    "print(Admission_Time_df)"
   ]
  },
  {
   "cell_type": "markdown",
   "id": "d3a13b8e-094c-43f7-aa2d-d90e542460f4",
   "metadata": {},
   "source": [
    "47. Generate a 3x3 Array using Random values between 1to 9 and Fix the values and position in Next Run."
   ]
  },
  {
   "cell_type": "code",
   "execution_count": 17,
   "id": "f9f75a4d-5199-4dee-b791-a115e9728aed",
   "metadata": {},
   "outputs": [
    {
     "name": "stdout",
     "output_type": "stream",
     "text": [
      "Random Array:\n",
      "[[8 6 6]\n",
      " [4 9 9]\n",
      " [7 9 9]]\n"
     ]
    }
   ],
   "source": [
    "# Generate a 3x3 Array using Random values between 1to 9\n",
    "random_array = np.random.randint(1, 10, size=(3, 3))\n",
    "\n",
    "print(\"Random Array:\")\n",
    "print(random_array)\n",
    "\n",
    "# Save the random array for future runs\n",
    "np.save(\"random_array.npy\", random_array)"
   ]
  },
  {
   "cell_type": "code",
   "execution_count": 16,
   "id": "dbf7a23d-c09e-4066-9e6b-1bd8433b3406",
   "metadata": {},
   "outputs": [
    {
     "name": "stdout",
     "output_type": "stream",
     "text": [
      "[[2 5 8]\n",
      " [4 3 8]\n",
      " [1 6 4]]\n"
     ]
    }
   ],
   "source": [
    "# Fix the values and position of 3x3 Array 'random_array' in Next Run\n",
    "random_array = np.load(\"random_array.npy\")\n",
    "print(random_array)"
   ]
  },
  {
   "cell_type": "code",
   "execution_count": null,
   "id": "da81ed03-c7c3-4041-a433-7a07b33899b7",
   "metadata": {},
   "outputs": [],
   "source": []
  },
  {
   "cell_type": "markdown",
   "id": "47b977eb-8b76-4c05-99d0-56d6924c8f65",
   "metadata": {},
   "source": [
    "31. Group the days to re-admission into bins and count how many patients were in each bin"
   ]
  },
  {
   "cell_type": "code",
   "execution_count": 14,
   "id": "b6746823-0713-4e6d-91c0-43cb2d3c48a8",
   "metadata": {},
   "outputs": [
    {
     "name": "stdout",
     "output_type": "stream",
     "text": [
      "Count of Patients in Days to re-admission into bins: \n"
     ]
    },
    {
     "data": {
      "text/html": [
       "<div>\n",
       "<style scoped>\n",
       "    .dataframe tbody tr th:only-of-type {\n",
       "        vertical-align: middle;\n",
       "    }\n",
       "\n",
       "    .dataframe tbody tr th {\n",
       "        vertical-align: top;\n",
       "    }\n",
       "\n",
       "    .dataframe thead th {\n",
       "        text-align: right;\n",
       "    }\n",
       "</style>\n",
       "<table border=\"1\" class=\"dataframe\">\n",
       "  <thead>\n",
       "    <tr style=\"text-align: right;\">\n",
       "      <th></th>\n",
       "      <th>Readmission Day Groups</th>\n",
       "      <th>Pt_Count</th>\n",
       "    </tr>\n",
       "  </thead>\n",
       "  <tbody>\n",
       "    <tr>\n",
       "      <th>0</th>\n",
       "      <td>Under 100</td>\n",
       "      <td>531</td>\n",
       "    </tr>\n",
       "    <tr>\n",
       "      <th>1</th>\n",
       "      <td>100-199</td>\n",
       "      <td>199</td>\n",
       "    </tr>\n",
       "    <tr>\n",
       "      <th>2</th>\n",
       "      <td>200-299</td>\n",
       "      <td>92</td>\n",
       "    </tr>\n",
       "    <tr>\n",
       "      <th>3</th>\n",
       "      <td>300-399</td>\n",
       "      <td>43</td>\n",
       "    </tr>\n",
       "    <tr>\n",
       "      <th>4</th>\n",
       "      <td>400-499</td>\n",
       "      <td>15</td>\n",
       "    </tr>\n",
       "    <tr>\n",
       "      <th>5</th>\n",
       "      <td>Over 500</td>\n",
       "      <td>21</td>\n",
       "    </tr>\n",
       "  </tbody>\n",
       "</table>\n",
       "</div>"
      ],
      "text/plain": [
       "  Readmission Day Groups  Pt_Count\n",
       "0              Under 100       531\n",
       "1                100-199       199\n",
       "2                200-299        92\n",
       "3                300-399        43\n",
       "4                400-499        15\n",
       "5               Over 500        21"
      ]
     },
     "execution_count": 14,
     "metadata": {},
     "output_type": "execute_result"
    }
   ],
   "source": [
    "hos_dc2 = HosDis.copy()\n",
    "readmission_days=0\n",
    "readmission_days_list = []\n",
    "for reb in hos_dc2.index:\n",
    "        if hos_dc2['readmission_time_days_from_admission'][reb] != \"NA\":\n",
    "          readmission_days_list.insert(readmission_days,hos_dc2['readmission_time_days_from_admission'][reb])\n",
    "          readmission_days = readmission_days + 1\n",
    "readmission_days_bins = [0, 100, 200, 300, 400, 500, 10000 ]\n",
    "readmission_day_groups = pd.cut(readmission_days_list, bins=readmission_days_bins, labels=[\"Under 100\", \"100-199\", \"200-299\", \"300-399\",\"400-499\", \"Over 500\" ])\n",
    "result_bin_df = pd.DataFrame({\"Readmission Days\": readmission_days_list, \"Readmission Day Groups\": readmission_day_groups})\n",
    "result_bin_df['Pt_Count'] = 1\n",
    "#print(result_bin_df)\n",
    "\n",
    "count_in_each_bin = result_bin_df.groupby('Readmission Day Groups',observed=False)['Pt_Count'].count().reset_index()\n",
    "\n",
    "print('Count of Patients in Days to re-admission into bins: ')\n",
    "count_in_each_bin"
   ]
  },
  {
   "cell_type": "markdown",
   "id": "82c1b128-0021-4fcd-94e3-19a7d723bf91",
   "metadata": {},
   "source": [
    "Extra Questions:"
   ]
  },
  {
   "cell_type": "markdown",
   "id": "7bfe8363-c01f-4b61-883f-705844687226",
   "metadata": {},
   "source": [
    "1. Finding the Count of Patients in each Age Category."
   ]
  },
  {
   "cell_type": "code",
   "execution_count": 28,
   "id": "4d32c988-20ce-4409-a7b2-6dc409869c71",
   "metadata": {
    "scrolled": true
   },
   "outputs": [
    {
     "name": "stdout",
     "output_type": "stream",
     "text": [
      "Number of Patients in each Age Category:\n"
     ]
    },
    {
     "data": {
      "text/plain": [
       "[Text(0, 0, '715'),\n",
       " Text(0, 0, '368'),\n",
       " Text(0, 0, '646'),\n",
       " Text(0, 0, '106'),\n",
       " Text(0, 0, '101'),\n",
       " Text(0, 0, '12'),\n",
       " Text(0, 0, '56'),\n",
       " Text(0, 0, '4')]"
      ]
     },
     "execution_count": 28,
     "metadata": {},
     "output_type": "execute_result"
    },
    {
     "data": {
      "image/png": "[encoded data removed]",
      "text/plain": [
       "<Figure size 640x480 with 1 Axes>"
      ]
     },
     "metadata": {},
     "output_type": "display_data"
    }
   ],
   "source": [
    "# Bar Plot \n",
    "\n",
    "# We can now automatically annotate bar plots with the built-in Axes.bar_label.\n",
    "# access/extract the seaborn plot's Axes\n",
    "\n",
    "print('Number of Patients in each Age Category:')\n",
    "ax = sns.countplot(x='ageCat', data=Demog)\n",
    "ax.bar_label(ax.containers[0])"
   ]
  },
  {
   "cell_type": "markdown",
   "id": "e9a3caea-f91d-449a-a86b-44bbb480ed82",
   "metadata": {},
   "source": [
    "2. SBP and platelets realtion Heart Health (Maycardial Infarction)"
   ]
  },
  {
   "cell_type": "code",
   "execution_count": null,
   "id": "e7ae44ee-1b42-4ecd-a841-d26aac6cdf49",
   "metadata": {},
   "outputs": [],
   "source": [
    "mayo_card_pt = CardiacComp[CardiacComp['myocardial_infarction']== 1]\n",
    "\n",
    "mayo_card_pt_boimarker_df = mayo_card_pt.merge(Labs[['inpatient_number','platelet', 'systolic_blood_pressure']], on ='inpatient_number')\n",
    "mayo_card_pt_boimarker_df_filt = mayo_card_pt_boimarker_df\n",
    "\n",
    "mayo_card_pt_boimarker_df_filt = (mayo_card_pt_boimarker_df_filt.loc[:, ['inpatient_number','platelet', 'systolic_blood_pressure']])\n",
    "\n",
    "plt.figure(figsize=(8, 6))\n",
    "sns.set_style('whitegrid')\n",
    "sns.regplot(x='platelet', y='systolic_blood_pressure', data=mayo_card_pt_boimarker_df_filt)\n",
    "plt.xlabel(\"Plateletes\")\n",
    "plt.ylabel(\"Systolic Blood Pressure (SBP)\")\n",
    "\n",
    "# Show line for Normal Platelets level . less than 150 is a condition Thrombocytopenia. \n",
    "plt.axvline(x=150 , color = 'g',\n",
    "  linestyle = '--', \n",
    "  linewidth = 1)\n",
    "# Show line for Normal SBP level . Greater than 120 is At Risk (prehypertension)\n",
    "plt.axhline(y=120 , color = 'g',\n",
    "  linestyle = '--', \n",
    "  linewidth = 1)\n",
    "\n",
    "plt.show()\n",
    "\n",
    "print('Platelets level: Less than 150 is a condition Thrombocytopenia')\n",
    "print('SBP level :  Greater than 120 is At Risk Hypertension')\n",
    "print()\n",
    "print('ANALYSIS:')\n",
    "print()\n",
    "print('After analysing the data, it shows that large percentage patients with Mayocardial Infarction have high SBP >150.')\n",
    "print('From the chart it can be seen that large volume of patients having Mayocardial Infarction have Low Platelets Count < 150.')\n",
    "print('SBP is slighlty realted to Platelet counts. Monitoring Platelet counts and SPB can be crutial in preventing Heart Health. ')\n"
   ]
  },
  {
   "cell_type": "markdown",
   "id": "963f7dbf-dc4a-41d8-96ba-1d0e5caef632",
   "metadata": {},
   "source": [
    "Realtion of BMI and AGE category to patients with Mayocardial Infarction."
   ]
  },
  {
   "cell_type": "code",
   "execution_count": 24,
   "id": "3d8bb203-215d-4f24-83e5-57d22eb4c7b3",
   "metadata": {},
   "outputs": [
    {
     "name": "stderr",
     "output_type": "stream",
     "text": [
      "C:\\Users\\dipti\\anaconda3\\Lib\\site-packages\\seaborn\\_oldcore.py:1119: FutureWarning: use_inf_as_na option is deprecated and will be removed in a future version. Convert inf values to NaN before operating instead.\n",
      "  with pd.option_context('mode.use_inf_as_na', True):\n",
      "C:\\Users\\dipti\\anaconda3\\Lib\\site-packages\\seaborn\\_oldcore.py:1119: FutureWarning: use_inf_as_na option is deprecated and will be removed in a future version. Convert inf values to NaN before operating instead.\n",
      "  with pd.option_context('mode.use_inf_as_na', True):\n"
     ]
    },
    {
     "data": {
      "image/png": "[encoded data removed]",
      "text/plain": [
       "<Figure size 800x600 with 1 Axes>"
      ]
     },
     "metadata": {},
     "output_type": "display_data"
    },
    {
     "name": "stdout",
     "output_type": "stream",
     "text": [
      "ANALYSIS:\n",
      "\n",
      "After analysing the data, it shows that large percentage patients with Mayocardial Infarction have high BMI.\n",
      "From the chart it can be infered that Elderly patients in the Age group of 60-90 have High BMI.\n",
      "Monitoring weight that is realted to BMI of elderly patients can reduce the chances of having Mayocardial Infarction. \n"
     ]
    }
   ],
   "source": [
    "# Finding patients with myocardial_infarction\n",
    "mayo_card_pt = CardiacComp[CardiacComp['myocardial_infarction']== 1]\n",
    "mayo_card_pt\n",
    "\n",
    "# Merge with Demographic\n",
    "mayo_card_pt_demog_df = mayo_card_pt.merge(Demog[['inpatient_number','BMI','ageCat']], on ='inpatient_number')\n",
    "mayo_card_pt_demog_df_filt = mayo_card_pt_demog_df\n",
    "\n",
    "mayo_card_pt_demog_df_filt = (mayo_card_pt_demog_df_filt.loc[:, ['inpatient_number','BMI', 'ageCat']])\n",
    "\n",
    "# plot swarmplot using BMI and ageCat\n",
    "plt.figure(figsize=(8, 6))\n",
    "sns.set_style('whitegrid')\n",
    "sns.swarmplot(x='ageCat', y='BMI', data=mayo_card_pt_demog_df_filt)\n",
    "plt.xlabel(\"Age Category\")\n",
    "plt.ylabel(\"BMI\")\n",
    "plt.title(\"Patients with Mayocardial Infarction by AGE and BMI\")\n",
    "plt.show()\n",
    "\n",
    "print('ANALYSIS:')\n",
    "print()\n",
    "print('After analysing the data, it shows that large percentage patients with Mayocardial Infarction have high BMI.')\n",
    "print('From the chart it can be infered that Elderly patients in the Age group of 60-90 have High BMI.')\n",
    "print('Monitoring weight that is realted to BMI of elderly patients can reduce the chances of having Mayocardial Infarction. ')\n"
   ]
  },
  {
   "cell_type": "code",
   "execution_count": null,
   "id": "776851a1-470b-4b1f-abac-1a4c97c9aac2",
   "metadata": {},
   "outputs": [],
   "source": []
  },
  {
   "cell_type": "markdown",
   "id": "598e8830-6cbd-4f9a-b0b5-c140a3c5a280",
   "metadata": {},
   "source": [
    "3. Congestive Heartfailure vs  bmi? correlation?"
   ]
  },
  {
   "cell_type": "code",
   "execution_count": null,
   "id": "0b8b58dc-f5d3-4289-860b-28347f202e7a",
   "metadata": {},
   "outputs": [],
   "source": [
    "cong_ht_fl_pt = CardiacComp[CardiacComp['congestive_heart_failure']== 1]\n",
    "cong_ht_fl_pt\n",
    "\n",
    "cong_ht_fl_pt_demog_df = cong_ht_fl_pt.merge(Demog[['inpatient_number','BMI']], on ='inpatient_number')\n",
    "cong_ht_fl_pt_demog_df_filt = cong_ht_fl_pt_demog_df\n",
    "cong_ht_fl_pt_demog_df_filt = (cong_ht_fl_pt_demog_df_filt.loc[:, ['inpatient_number','BMI', 'ageCat']])"
   ]
  }
 ],
 "metadata": {
  "kernelspec": {
   "display_name": "Python 3 (ipykernel)",
   "language": "python",
   "name": "python3"
  },
  "language_info": {
   "codemirror_mode": {
    "name": "ipython",
    "version": 3
   },
   "file_extension": ".py",
   "mimetype": "text/x-python",
   "name": "python",
   "nbconvert_exporter": "python",
   "pygments_lexer": "ipython3",
   "version": "3.11.7"
  }
 },
 "nbformat": 4,
 "nbformat_minor": 5
}
